{
 "cells": [
  {
   "cell_type": "markdown",
   "id": "a3eaf785",
   "metadata": {},
   "source": [
    "# Wallmart Project"
   ]
  },
  {
   "cell_type": "markdown",
   "id": "1d8f0250",
   "metadata": {},
   "source": [
    "1.\tImporting the Dataset and Data Analysis:\n",
    "    •\tImport the dataset.\n",
    "    •\tCheck the structure and characteristics of the dataset.\n",
    "    •\tDetect null values and outliers using boxplots, descriptive statistics, and checking for null values.\n",
    "2.\tData Exploration:\n",
    "    •\tTrack the amount spent per transaction for male and female customers.\n",
    "    •\tCalculate the average spending for male and female customers.\n",
    "    •\tInfer insights based on the computed averages.\n",
    "    •\tUse the sample average to find confidence intervals for average spending of male and female customers.\n",
    "    •\tUtilize the Central Limit Theorem to compute the intervals and observe the distribution of mean expenses.\n",
    "    •\tExperiment with different confidence levels (90%, 95%, etc.) and report observations.\n",
    "    •\tConclude by determining if confidence intervals overlap or not.\n",
    "3.\tComparison based on Marital Status and Age:\n",
    "    •\tRepeat the above steps for married vs. unmarried customers and different age groups (e.g., 0-17, 18-25, etc.).\n",
    "4.\tRecommendations and Action Items:\n",
    "    •\tBased on the analysis, provide recommendations and action items for Walmart to leverage the insights gained. For example, optimizing marketing strategies, tailoring products to specific demographics, or improving customer experience.\n"
   ]
  },
  {
   "cell_type": "code",
   "execution_count": 1,
   "id": "ff407afd",
   "metadata": {},
   "outputs": [],
   "source": [
    "import numpy as np\n",
    "import pandas as pd"
   ]
  },
  {
   "cell_type": "code",
   "execution_count": 2,
   "id": "eed2c041",
   "metadata": {},
   "outputs": [],
   "source": [
    "import matplotlib.pyplot as plt\n",
    "import seaborn as sns"
   ]
  },
  {
   "cell_type": "code",
   "execution_count": 3,
   "id": "6b240fb4",
   "metadata": {},
   "outputs": [],
   "source": [
    "df = pd.read_csv(\"walmart_data.csv\")"
   ]
  },
  {
   "cell_type": "code",
   "execution_count": 4,
   "id": "494b3dec",
   "metadata": {},
   "outputs": [
    {
     "data": {
      "text/html": [
       "<div>\n",
       "<style scoped>\n",
       "    .dataframe tbody tr th:only-of-type {\n",
       "        vertical-align: middle;\n",
       "    }\n",
       "\n",
       "    .dataframe tbody tr th {\n",
       "        vertical-align: top;\n",
       "    }\n",
       "\n",
       "    .dataframe thead th {\n",
       "        text-align: right;\n",
       "    }\n",
       "</style>\n",
       "<table border=\"1\" class=\"dataframe\">\n",
       "  <thead>\n",
       "    <tr style=\"text-align: right;\">\n",
       "      <th></th>\n",
       "      <th>User_ID</th>\n",
       "      <th>Product_ID</th>\n",
       "      <th>Gender</th>\n",
       "      <th>Age</th>\n",
       "      <th>Occupation</th>\n",
       "      <th>City_Category</th>\n",
       "      <th>Stay_In_Current_City_Years</th>\n",
       "      <th>Marital_Status</th>\n",
       "      <th>Product_Category</th>\n",
       "      <th>Purchase</th>\n",
       "    </tr>\n",
       "  </thead>\n",
       "  <tbody>\n",
       "    <tr>\n",
       "      <th>0</th>\n",
       "      <td>1000001</td>\n",
       "      <td>P00069042</td>\n",
       "      <td>F</td>\n",
       "      <td>0-17</td>\n",
       "      <td>10</td>\n",
       "      <td>A</td>\n",
       "      <td>2</td>\n",
       "      <td>0</td>\n",
       "      <td>3</td>\n",
       "      <td>8370</td>\n",
       "    </tr>\n",
       "    <tr>\n",
       "      <th>1</th>\n",
       "      <td>1000001</td>\n",
       "      <td>P00248942</td>\n",
       "      <td>F</td>\n",
       "      <td>0-17</td>\n",
       "      <td>10</td>\n",
       "      <td>A</td>\n",
       "      <td>2</td>\n",
       "      <td>0</td>\n",
       "      <td>1</td>\n",
       "      <td>15200</td>\n",
       "    </tr>\n",
       "    <tr>\n",
       "      <th>2</th>\n",
       "      <td>1000001</td>\n",
       "      <td>P00087842</td>\n",
       "      <td>F</td>\n",
       "      <td>0-17</td>\n",
       "      <td>10</td>\n",
       "      <td>A</td>\n",
       "      <td>2</td>\n",
       "      <td>0</td>\n",
       "      <td>12</td>\n",
       "      <td>1422</td>\n",
       "    </tr>\n",
       "    <tr>\n",
       "      <th>3</th>\n",
       "      <td>1000001</td>\n",
       "      <td>P00085442</td>\n",
       "      <td>F</td>\n",
       "      <td>0-17</td>\n",
       "      <td>10</td>\n",
       "      <td>A</td>\n",
       "      <td>2</td>\n",
       "      <td>0</td>\n",
       "      <td>12</td>\n",
       "      <td>1057</td>\n",
       "    </tr>\n",
       "    <tr>\n",
       "      <th>4</th>\n",
       "      <td>1000002</td>\n",
       "      <td>P00285442</td>\n",
       "      <td>M</td>\n",
       "      <td>55+</td>\n",
       "      <td>16</td>\n",
       "      <td>C</td>\n",
       "      <td>4+</td>\n",
       "      <td>0</td>\n",
       "      <td>8</td>\n",
       "      <td>7969</td>\n",
       "    </tr>\n",
       "  </tbody>\n",
       "</table>\n",
       "</div>"
      ],
      "text/plain": [
       "   User_ID Product_ID Gender   Age  Occupation City_Category  \\\n",
       "0  1000001  P00069042      F  0-17          10             A   \n",
       "1  1000001  P00248942      F  0-17          10             A   \n",
       "2  1000001  P00087842      F  0-17          10             A   \n",
       "3  1000001  P00085442      F  0-17          10             A   \n",
       "4  1000002  P00285442      M   55+          16             C   \n",
       "\n",
       "  Stay_In_Current_City_Years  Marital_Status  Product_Category  Purchase  \n",
       "0                          2               0                 3      8370  \n",
       "1                          2               0                 1     15200  \n",
       "2                          2               0                12      1422  \n",
       "3                          2               0                12      1057  \n",
       "4                         4+               0                 8      7969  "
      ]
     },
     "execution_count": 4,
     "metadata": {},
     "output_type": "execute_result"
    }
   ],
   "source": [
    "df.head()"
   ]
  },
  {
   "cell_type": "code",
   "execution_count": 5,
   "id": "fc677d8a",
   "metadata": {},
   "outputs": [
    {
     "data": {
      "text/plain": [
       "(550068, 10)"
      ]
     },
     "execution_count": 5,
     "metadata": {},
     "output_type": "execute_result"
    }
   ],
   "source": [
    "df.shape"
   ]
  },
  {
   "cell_type": "raw",
   "id": "f03fc98f",
   "metadata": {},
   "source": [
    "In this Wallmart dataset tortal 10 features and 550068 entries"
   ]
  },
  {
   "cell_type": "code",
   "execution_count": 6,
   "id": "e7a41b28",
   "metadata": {},
   "outputs": [
    {
     "data": {
      "text/plain": [
       "User_ID                        int64\n",
       "Product_ID                    object\n",
       "Gender                        object\n",
       "Age                           object\n",
       "Occupation                     int64\n",
       "City_Category                 object\n",
       "Stay_In_Current_City_Years    object\n",
       "Marital_Status                 int64\n",
       "Product_Category               int64\n",
       "Purchase                       int64\n",
       "dtype: object"
      ]
     },
     "execution_count": 6,
     "metadata": {},
     "output_type": "execute_result"
    }
   ],
   "source": [
    "df.dtypes"
   ]
  },
  {
   "cell_type": "raw",
   "id": "c6861d8e",
   "metadata": {},
   "source": [
    "In this wallmart dataset we have five integers value and five Objects but after viewing dataset we can say only Purchase has a Numerical features. Marital Status is a Category feature."
   ]
  },
  {
   "cell_type": "code",
   "execution_count": 7,
   "id": "264814e4",
   "metadata": {},
   "outputs": [
    {
     "data": {
      "text/plain": [
       "User_ID                       0\n",
       "Product_ID                    0\n",
       "Gender                        0\n",
       "Age                           0\n",
       "Occupation                    0\n",
       "City_Category                 0\n",
       "Stay_In_Current_City_Years    0\n",
       "Marital_Status                0\n",
       "Product_Category              0\n",
       "Purchase                      0\n",
       "dtype: int64"
      ]
     },
     "execution_count": 7,
     "metadata": {},
     "output_type": "execute_result"
    }
   ],
   "source": [
    "df.isna().sum()"
   ]
  },
  {
   "cell_type": "raw",
   "id": "50322c37",
   "metadata": {},
   "source": [
    "There is no null value in this dataset."
   ]
  },
  {
   "cell_type": "code",
   "execution_count": 8,
   "id": "fa785d03",
   "metadata": {},
   "outputs": [
    {
     "data": {
      "text/plain": [
       "1001680    1026\n",
       "1004277     979\n",
       "1001941     898\n",
       "1001181     862\n",
       "1000889     823\n",
       "           ... \n",
       "1002690       7\n",
       "1002111       7\n",
       "1005810       7\n",
       "1004991       7\n",
       "1000708       6\n",
       "Name: User_ID, Length: 5891, dtype: int64"
      ]
     },
     "execution_count": 8,
     "metadata": {},
     "output_type": "execute_result"
    }
   ],
   "source": [
    "df['User_ID'].value_counts()"
   ]
  },
  {
   "cell_type": "raw",
   "id": "7bdfc06d",
   "metadata": {},
   "source": [
    "here we can see the number of orders made by individuals. Person with User ID 1001680 has ordered the maximum times 1026. and here we have total 5891 different users."
   ]
  },
  {
   "cell_type": "code",
   "execution_count": 9,
   "id": "14d27419",
   "metadata": {},
   "outputs": [
    {
     "data": {
      "text/plain": [
       "P00265242    1880\n",
       "P00025442    1615\n",
       "P00110742    1612\n",
       "P00112142    1562\n",
       "P00057642    1470\n",
       "             ... \n",
       "P00314842       1\n",
       "P00298842       1\n",
       "P00231642       1\n",
       "P00204442       1\n",
       "P00066342       1\n",
       "Name: Product_ID, Length: 3631, dtype: int64"
      ]
     },
     "execution_count": 9,
     "metadata": {},
     "output_type": "execute_result"
    }
   ],
   "source": [
    "df['Product_ID'].value_counts()"
   ]
  },
  {
   "cell_type": "raw",
   "id": "2ef68817",
   "metadata": {},
   "source": [
    "and by looking this data we can see that most ordered product is P00265242 which is 1880 times"
   ]
  },
  {
   "cell_type": "code",
   "execution_count": 10,
   "id": "62aa9be2",
   "metadata": {},
   "outputs": [
    {
     "data": {
      "text/plain": [
       "M    414259\n",
       "F    135809\n",
       "Name: Gender, dtype: int64"
      ]
     },
     "execution_count": 10,
     "metadata": {},
     "output_type": "execute_result"
    }
   ],
   "source": [
    "df['Gender'].value_counts()"
   ]
  },
  {
   "cell_type": "raw",
   "id": "924ccc02",
   "metadata": {},
   "source": [
    "there is total 414259 orders made by male and 135809 orders made by female."
   ]
  },
  {
   "cell_type": "code",
   "execution_count": 11,
   "id": "bf0cb1bd",
   "metadata": {},
   "outputs": [
    {
     "data": {
      "text/plain": [
       "26-35    219587\n",
       "36-45    110013\n",
       "18-25     99660\n",
       "46-50     45701\n",
       "51-55     38501\n",
       "55+       21504\n",
       "0-17      15102\n",
       "Name: Age, dtype: int64"
      ]
     },
     "execution_count": 11,
     "metadata": {},
     "output_type": "execute_result"
    }
   ],
   "source": [
    "df['Age'].value_counts()"
   ]
  },
  {
   "cell_type": "raw",
   "id": "5fe4e0c9",
   "metadata": {},
   "source": [
    "here we can see the number of orders made by different age group and maximum orders done by the age group of 26-35"
   ]
  },
  {
   "cell_type": "code",
   "execution_count": 12,
   "id": "3adade2a",
   "metadata": {},
   "outputs": [
    {
     "data": {
      "text/plain": [
       "4     72308\n",
       "0     69638\n",
       "7     59133\n",
       "1     47426\n",
       "17    40043\n",
       "20    33562\n",
       "12    31179\n",
       "14    27309\n",
       "2     26588\n",
       "16    25371\n",
       "6     20355\n",
       "3     17650\n",
       "10    12930\n",
       "5     12177\n",
       "15    12165\n",
       "11    11586\n",
       "19     8461\n",
       "13     7728\n",
       "18     6622\n",
       "9      6291\n",
       "8      1546\n",
       "Name: Occupation, dtype: int64"
      ]
     },
     "execution_count": 12,
     "metadata": {},
     "output_type": "execute_result"
    }
   ],
   "source": [
    "df['Occupation'].value_counts()"
   ]
  },
  {
   "cell_type": "raw",
   "id": "fd5bf14c",
   "metadata": {},
   "source": [
    "This is the list of number of orders by Occupation type and Occupation type 4 has done the maximum number of orders"
   ]
  },
  {
   "cell_type": "code",
   "execution_count": 13,
   "id": "1376f03f",
   "metadata": {},
   "outputs": [
    {
     "data": {
      "text/plain": [
       "B    231173\n",
       "C    171175\n",
       "A    147720\n",
       "Name: City_Category, dtype: int64"
      ]
     },
     "execution_count": 13,
     "metadata": {},
     "output_type": "execute_result"
    }
   ],
   "source": [
    "df['City_Category'].value_counts()"
   ]
  },
  {
   "cell_type": "raw",
   "id": "769b7327",
   "metadata": {},
   "source": [
    "Here number of orders placed by City Category and in City B maximum number of orders placed"
   ]
  },
  {
   "cell_type": "code",
   "execution_count": 14,
   "id": "7999b8b4",
   "metadata": {},
   "outputs": [
    {
     "data": {
      "text/plain": [
       "1     193821\n",
       "2     101838\n",
       "3      95285\n",
       "4+     84726\n",
       "0      74398\n",
       "Name: Stay_In_Current_City_Years, dtype: int64"
      ]
     },
     "execution_count": 14,
     "metadata": {},
     "output_type": "execute_result"
    }
   ],
   "source": [
    "df['Stay_In_Current_City_Years'].value_counts()"
   ]
  },
  {
   "cell_type": "raw",
   "id": "f2b9364e",
   "metadata": {},
   "source": [
    "number of orders placed by people residing in current city since year wise. here maximum order placed by those who stayed less than an year."
   ]
  },
  {
   "cell_type": "code",
   "execution_count": 15,
   "id": "78079ef7",
   "metadata": {},
   "outputs": [
    {
     "data": {
      "text/plain": [
       "0    324731\n",
       "1    225337\n",
       "Name: Marital_Status, dtype: int64"
      ]
     },
     "execution_count": 15,
     "metadata": {},
     "output_type": "execute_result"
    }
   ],
   "source": [
    "df['Marital_Status'].value_counts()"
   ]
  },
  {
   "cell_type": "raw",
   "id": "27e6bd98",
   "metadata": {},
   "source": [
    "number of orders by Unmarried and Married People."
   ]
  },
  {
   "cell_type": "code",
   "execution_count": 16,
   "id": "3e637727",
   "metadata": {},
   "outputs": [
    {
     "data": {
      "text/plain": [
       "5     150933\n",
       "1     140378\n",
       "8     113925\n",
       "11     24287\n",
       "2      23864\n",
       "6      20466\n",
       "3      20213\n",
       "4      11753\n",
       "16      9828\n",
       "15      6290\n",
       "13      5549\n",
       "10      5125\n",
       "12      3947\n",
       "7       3721\n",
       "18      3125\n",
       "20      2550\n",
       "19      1603\n",
       "14      1523\n",
       "17       578\n",
       "9        410\n",
       "Name: Product_Category, dtype: int64"
      ]
     },
     "execution_count": 16,
     "metadata": {},
     "output_type": "execute_result"
    }
   ],
   "source": [
    "df['Product_Category'].value_counts()"
   ]
  },
  {
   "cell_type": "raw",
   "id": "c7c8cdfd",
   "metadata": {},
   "source": [
    "Product Category wise number of times ordered Products."
   ]
  },
  {
   "cell_type": "code",
   "execution_count": 17,
   "id": "7fed04ae",
   "metadata": {},
   "outputs": [
    {
     "data": {
      "text/plain": [
       "count    550068.000000\n",
       "mean       9263.968713\n",
       "std        5023.065394\n",
       "min          12.000000\n",
       "25%        5823.000000\n",
       "50%        8047.000000\n",
       "75%       12054.000000\n",
       "max       23961.000000\n",
       "Name: Purchase, dtype: float64"
      ]
     },
     "execution_count": 17,
     "metadata": {},
     "output_type": "execute_result"
    }
   ],
   "source": [
    "df['Purchase'].describe()"
   ]
  },
  {
   "cell_type": "raw",
   "id": "2b136bbc",
   "metadata": {},
   "source": [
    "detail description of Purchasing amount. and here we can say that amount is widely dispersed from the range 12 to 23961 rupees."
   ]
  },
  {
   "cell_type": "code",
   "execution_count": 18,
   "id": "9d97cb15",
   "metadata": {
    "scrolled": false
   },
   "outputs": [
    {
     "name": "stderr",
     "output_type": "stream",
     "text": [
      "D:\\program\\anaconda\\lib\\site-packages\\seaborn\\_decorators.py:36: FutureWarning: Pass the following variable as a keyword arg: x. From version 0.12, the only valid positional argument will be `data`, and passing other arguments without an explicit keyword will result in an error or misinterpretation.\n",
      "  warnings.warn(\n"
     ]
    },
    {
     "data": {
      "text/plain": [
       "<AxesSubplot:xlabel='Purchase'>"
      ]
     },
     "execution_count": 18,
     "metadata": {},
     "output_type": "execute_result"
    },
    {
     "data": {
      "image/png": "[encoded data removed]",
      "text/plain": [
       "<Figure size 640x480 with 1 Axes>"
      ]
     },
     "metadata": {},
     "output_type": "display_data"
    }
   ],
   "source": [
    "lower_purchase = df['Purchase'].quantile(.05)\n",
    "upper_purchase = df['Purchase'].quantile(.95)\n",
    "clipped_purchased = df['Purchase'].clip(lower_purchase,upper_purchase)\n",
    "sns.boxplot(clipped_purchased)"
   ]
  },
  {
   "cell_type": "code",
   "execution_count": 19,
   "id": "4ba004ae",
   "metadata": {},
   "outputs": [
    {
     "data": {
      "text/plain": [
       "count    550068.000000\n",
       "mean       9256.710489\n",
       "std        4855.947166\n",
       "min        1984.000000\n",
       "25%        5823.000000\n",
       "50%        8047.000000\n",
       "75%       12054.000000\n",
       "max       19336.000000\n",
       "Name: Purchase, dtype: float64"
      ]
     },
     "execution_count": 19,
     "metadata": {},
     "output_type": "execute_result"
    }
   ],
   "source": [
    "clipped_purchased.describe()"
   ]
  },
  {
   "cell_type": "raw",
   "id": "a2120b30",
   "metadata": {},
   "source": [
    "After clipping 5% data from both the ends. data is less variable. with the mean amount 9256 rupees."
   ]
  },
  {
   "cell_type": "code",
   "execution_count": 20,
   "id": "b940d760",
   "metadata": {},
   "outputs": [
    {
     "data": {
      "text/plain": [
       "<AxesSubplot:xlabel='Purchase', ylabel='City_Category'>"
      ]
     },
     "execution_count": 20,
     "metadata": {},
     "output_type": "execute_result"
    },
    {
     "data": {
      "image/png": "[encoded data removed]",
      "text/plain": [
       "<Figure size 640x480 with 1 Axes>"
      ]
     },
     "metadata": {},
     "output_type": "display_data"
    }
   ],
   "source": [
    "sns.boxplot(data=df,x='Purchase',y='City_Category')"
   ]
  },
  {
   "cell_type": "code",
   "execution_count": 21,
   "id": "a4b40303",
   "metadata": {},
   "outputs": [
    {
     "data": {
      "text/plain": [
       "City_Category\n",
       "A    8911.939216\n",
       "B    9151.300563\n",
       "C    9719.920993\n",
       "Name: Purchase, dtype: float64"
      ]
     },
     "execution_count": 21,
     "metadata": {},
     "output_type": "execute_result"
    }
   ],
   "source": [
    "df.groupby('City_Category')['Purchase'].mean()"
   ]
  },
  {
   "cell_type": "raw",
   "id": "0b7f499a",
   "metadata": {},
   "source": [
    "by looking mean values of Order amount we can say City Category of Type C ordered higher amount of Products. "
   ]
  },
  {
   "cell_type": "code",
   "execution_count": 22,
   "id": "9b600052",
   "metadata": {},
   "outputs": [
    {
     "data": {
      "text/plain": [
       "<AxesSubplot:xlabel='Purchase', ylabel='Gender'>"
      ]
     },
     "execution_count": 22,
     "metadata": {},
     "output_type": "execute_result"
    },
    {
     "data": {
      "image/png": "[encoded data removed]",
      "text/plain": [
       "<Figure size 640x480 with 1 Axes>"
      ]
     },
     "metadata": {},
     "output_type": "display_data"
    }
   ],
   "source": [
    "sns.boxplot(data=df,x='Purchase',y='Gender')"
   ]
  },
  {
   "cell_type": "raw",
   "id": "af36980c",
   "metadata": {},
   "source": [
    "Here Gender wise we can see that Mean of both the Male and Female is almost the same."
   ]
  },
  {
   "cell_type": "code",
   "execution_count": 23,
   "id": "364594e3",
   "metadata": {},
   "outputs": [
    {
     "data": {
      "text/html": [
       "<div>\n",
       "<style scoped>\n",
       "    .dataframe tbody tr th:only-of-type {\n",
       "        vertical-align: middle;\n",
       "    }\n",
       "\n",
       "    .dataframe tbody tr th {\n",
       "        vertical-align: top;\n",
       "    }\n",
       "\n",
       "    .dataframe thead th {\n",
       "        text-align: right;\n",
       "    }\n",
       "</style>\n",
       "<table border=\"1\" class=\"dataframe\">\n",
       "  <thead>\n",
       "    <tr style=\"text-align: right;\">\n",
       "      <th>Stay_In_Current_City_Years</th>\n",
       "      <th>0</th>\n",
       "      <th>1</th>\n",
       "      <th>2</th>\n",
       "      <th>3</th>\n",
       "      <th>4+</th>\n",
       "      <th>All</th>\n",
       "    </tr>\n",
       "    <tr>\n",
       "      <th>City_Category</th>\n",
       "      <th></th>\n",
       "      <th></th>\n",
       "      <th></th>\n",
       "      <th></th>\n",
       "      <th></th>\n",
       "      <th></th>\n",
       "    </tr>\n",
       "  </thead>\n",
       "  <tbody>\n",
       "    <tr>\n",
       "      <th>A</th>\n",
       "      <td>24178</td>\n",
       "      <td>49305</td>\n",
       "      <td>27114</td>\n",
       "      <td>24804</td>\n",
       "      <td>22319</td>\n",
       "      <td>147720</td>\n",
       "    </tr>\n",
       "    <tr>\n",
       "      <th>B</th>\n",
       "      <td>28687</td>\n",
       "      <td>83413</td>\n",
       "      <td>41772</td>\n",
       "      <td>42691</td>\n",
       "      <td>34610</td>\n",
       "      <td>231173</td>\n",
       "    </tr>\n",
       "    <tr>\n",
       "      <th>C</th>\n",
       "      <td>21533</td>\n",
       "      <td>61103</td>\n",
       "      <td>32952</td>\n",
       "      <td>27790</td>\n",
       "      <td>27797</td>\n",
       "      <td>171175</td>\n",
       "    </tr>\n",
       "    <tr>\n",
       "      <th>All</th>\n",
       "      <td>74398</td>\n",
       "      <td>193821</td>\n",
       "      <td>101838</td>\n",
       "      <td>95285</td>\n",
       "      <td>84726</td>\n",
       "      <td>550068</td>\n",
       "    </tr>\n",
       "  </tbody>\n",
       "</table>\n",
       "</div>"
      ],
      "text/plain": [
       "Stay_In_Current_City_Years      0       1       2      3     4+     All\n",
       "City_Category                                                          \n",
       "A                           24178   49305   27114  24804  22319  147720\n",
       "B                           28687   83413   41772  42691  34610  231173\n",
       "C                           21533   61103   32952  27790  27797  171175\n",
       "All                         74398  193821  101838  95285  84726  550068"
      ]
     },
     "execution_count": 23,
     "metadata": {},
     "output_type": "execute_result"
    }
   ],
   "source": [
    "pd.crosstab(df['City_Category'],df['Stay_In_Current_City_Years'],margins=True)"
   ]
  },
  {
   "cell_type": "raw",
   "id": "d4d06656",
   "metadata": {},
   "source": [
    "Here trying to see the if there is any relation between order placed type of city in which customers are living and time period they are living for. And we can say that maximum order placed from B type city and mostly order placed by those people who are living in Type B city and since more than an year."
   ]
  },
  {
   "cell_type": "code",
   "execution_count": 24,
   "id": "c0350a6b",
   "metadata": {},
   "outputs": [
    {
     "data": {
      "text/plain": [
       "P00265242    508\n",
       "P00220442    440\n",
       "P00058042    387\n",
       "P00255842    375\n",
       "P00110742    365\n",
       "            ... \n",
       "P00245742      1\n",
       "P00229142      1\n",
       "P00310942      1\n",
       "P00225242      1\n",
       "P00271642      1\n",
       "Name: Product_ID, Length: 3367, dtype: int64"
      ]
     },
     "execution_count": 24,
     "metadata": {},
     "output_type": "execute_result"
    }
   ],
   "source": [
    "df[df['Gender']=='F']['Product_ID'].value_counts()"
   ]
  },
  {
   "cell_type": "raw",
   "id": "5b8450d2",
   "metadata": {},
   "source": [
    "Here we can see that mostly ordered product by a Female is of product_ID P00265242"
   ]
  },
  {
   "cell_type": "code",
   "execution_count": 25,
   "id": "8897cbae",
   "metadata": {},
   "outputs": [
    {
     "data": {
      "text/plain": [
       "P00265242    1372\n",
       "P00025442    1267\n",
       "P00110742    1247\n",
       "P00112142    1223\n",
       "P00057642    1212\n",
       "             ... \n",
       "P00340742       1\n",
       "P00306942       1\n",
       "P00144142       1\n",
       "P00065542       1\n",
       "P00203742       1\n",
       "Name: Product_ID, Length: 3588, dtype: int64"
      ]
     },
     "execution_count": 25,
     "metadata": {},
     "output_type": "execute_result"
    }
   ],
   "source": [
    "df[df['Gender']=='M']['Product_ID'].value_counts()"
   ]
  },
  {
   "cell_type": "raw",
   "id": "1971c4de",
   "metadata": {},
   "source": [
    "And Mostly ordered product by male is of Product_ID is P00265242"
   ]
  },
  {
   "cell_type": "code",
   "execution_count": 26,
   "id": "2a0db2d3",
   "metadata": {},
   "outputs": [
    {
     "data": {
      "text/html": [
       "<div>\n",
       "<style scoped>\n",
       "    .dataframe tbody tr th:only-of-type {\n",
       "        vertical-align: middle;\n",
       "    }\n",
       "\n",
       "    .dataframe tbody tr th {\n",
       "        vertical-align: top;\n",
       "    }\n",
       "\n",
       "    .dataframe thead th {\n",
       "        text-align: right;\n",
       "    }\n",
       "</style>\n",
       "<table border=\"1\" class=\"dataframe\">\n",
       "  <thead>\n",
       "    <tr style=\"text-align: right;\">\n",
       "      <th>Product_Category</th>\n",
       "      <th>1</th>\n",
       "      <th>2</th>\n",
       "      <th>3</th>\n",
       "      <th>4</th>\n",
       "      <th>5</th>\n",
       "      <th>6</th>\n",
       "      <th>7</th>\n",
       "      <th>8</th>\n",
       "      <th>9</th>\n",
       "      <th>10</th>\n",
       "      <th>...</th>\n",
       "      <th>12</th>\n",
       "      <th>13</th>\n",
       "      <th>14</th>\n",
       "      <th>15</th>\n",
       "      <th>16</th>\n",
       "      <th>17</th>\n",
       "      <th>18</th>\n",
       "      <th>19</th>\n",
       "      <th>20</th>\n",
       "      <th>All</th>\n",
       "    </tr>\n",
       "    <tr>\n",
       "      <th>City_Category</th>\n",
       "      <th></th>\n",
       "      <th></th>\n",
       "      <th></th>\n",
       "      <th></th>\n",
       "      <th></th>\n",
       "      <th></th>\n",
       "      <th></th>\n",
       "      <th></th>\n",
       "      <th></th>\n",
       "      <th></th>\n",
       "      <th></th>\n",
       "      <th></th>\n",
       "      <th></th>\n",
       "      <th></th>\n",
       "      <th></th>\n",
       "      <th></th>\n",
       "      <th></th>\n",
       "      <th></th>\n",
       "      <th></th>\n",
       "      <th></th>\n",
       "      <th></th>\n",
       "    </tr>\n",
       "  </thead>\n",
       "  <tbody>\n",
       "    <tr>\n",
       "      <th>A</th>\n",
       "      <td>35081</td>\n",
       "      <td>6141</td>\n",
       "      <td>4943</td>\n",
       "      <td>3050</td>\n",
       "      <td>42211</td>\n",
       "      <td>5507</td>\n",
       "      <td>1226</td>\n",
       "      <td>32179</td>\n",
       "      <td>110</td>\n",
       "      <td>1333</td>\n",
       "      <td>...</td>\n",
       "      <td>1063</td>\n",
       "      <td>1614</td>\n",
       "      <td>481</td>\n",
       "      <td>1717</td>\n",
       "      <td>2848</td>\n",
       "      <td>121</td>\n",
       "      <td>753</td>\n",
       "      <td>273</td>\n",
       "      <td>468</td>\n",
       "      <td>147720</td>\n",
       "    </tr>\n",
       "    <tr>\n",
       "      <th>B</th>\n",
       "      <td>58253</td>\n",
       "      <td>10444</td>\n",
       "      <td>8587</td>\n",
       "      <td>5226</td>\n",
       "      <td>64138</td>\n",
       "      <td>8526</td>\n",
       "      <td>1599</td>\n",
       "      <td>47553</td>\n",
       "      <td>174</td>\n",
       "      <td>2063</td>\n",
       "      <td>...</td>\n",
       "      <td>1675</td>\n",
       "      <td>2271</td>\n",
       "      <td>632</td>\n",
       "      <td>2638</td>\n",
       "      <td>4038</td>\n",
       "      <td>267</td>\n",
       "      <td>1389</td>\n",
       "      <td>462</td>\n",
       "      <td>753</td>\n",
       "      <td>231173</td>\n",
       "    </tr>\n",
       "    <tr>\n",
       "      <th>C</th>\n",
       "      <td>47044</td>\n",
       "      <td>7279</td>\n",
       "      <td>6683</td>\n",
       "      <td>3477</td>\n",
       "      <td>44584</td>\n",
       "      <td>6433</td>\n",
       "      <td>896</td>\n",
       "      <td>34193</td>\n",
       "      <td>126</td>\n",
       "      <td>1729</td>\n",
       "      <td>...</td>\n",
       "      <td>1209</td>\n",
       "      <td>1664</td>\n",
       "      <td>410</td>\n",
       "      <td>1935</td>\n",
       "      <td>2942</td>\n",
       "      <td>190</td>\n",
       "      <td>983</td>\n",
       "      <td>868</td>\n",
       "      <td>1329</td>\n",
       "      <td>171175</td>\n",
       "    </tr>\n",
       "    <tr>\n",
       "      <th>All</th>\n",
       "      <td>140378</td>\n",
       "      <td>23864</td>\n",
       "      <td>20213</td>\n",
       "      <td>11753</td>\n",
       "      <td>150933</td>\n",
       "      <td>20466</td>\n",
       "      <td>3721</td>\n",
       "      <td>113925</td>\n",
       "      <td>410</td>\n",
       "      <td>5125</td>\n",
       "      <td>...</td>\n",
       "      <td>3947</td>\n",
       "      <td>5549</td>\n",
       "      <td>1523</td>\n",
       "      <td>6290</td>\n",
       "      <td>9828</td>\n",
       "      <td>578</td>\n",
       "      <td>3125</td>\n",
       "      <td>1603</td>\n",
       "      <td>2550</td>\n",
       "      <td>550068</td>\n",
       "    </tr>\n",
       "  </tbody>\n",
       "</table>\n",
       "<p>4 rows × 21 columns</p>\n",
       "</div>"
      ],
      "text/plain": [
       "Product_Category       1      2      3      4       5      6     7       8  \\\n",
       "City_Category                                                                \n",
       "A                  35081   6141   4943   3050   42211   5507  1226   32179   \n",
       "B                  58253  10444   8587   5226   64138   8526  1599   47553   \n",
       "C                  47044   7279   6683   3477   44584   6433   896   34193   \n",
       "All               140378  23864  20213  11753  150933  20466  3721  113925   \n",
       "\n",
       "Product_Category    9    10  ...    12    13    14    15    16   17    18  \\\n",
       "City_Category                ...                                            \n",
       "A                 110  1333  ...  1063  1614   481  1717  2848  121   753   \n",
       "B                 174  2063  ...  1675  2271   632  2638  4038  267  1389   \n",
       "C                 126  1729  ...  1209  1664   410  1935  2942  190   983   \n",
       "All               410  5125  ...  3947  5549  1523  6290  9828  578  3125   \n",
       "\n",
       "Product_Category    19    20     All  \n",
       "City_Category                         \n",
       "A                  273   468  147720  \n",
       "B                  462   753  231173  \n",
       "C                  868  1329  171175  \n",
       "All               1603  2550  550068  \n",
       "\n",
       "[4 rows x 21 columns]"
      ]
     },
     "execution_count": 26,
     "metadata": {},
     "output_type": "execute_result"
    }
   ],
   "source": [
    "pd.crosstab(df['City_Category'],df['Product_Category'],margins=True)"
   ]
  },
  {
   "cell_type": "raw",
   "id": "b0a82eff",
   "metadata": {},
   "source": [
    "here number of order placed of different type of products from different type of cities"
   ]
  },
  {
   "cell_type": "code",
   "execution_count": 27,
   "id": "2f5db35d",
   "metadata": {
    "scrolled": true
   },
   "outputs": [
    {
     "data": {
      "text/html": [
       "<div>\n",
       "<style scoped>\n",
       "    .dataframe tbody tr th:only-of-type {\n",
       "        vertical-align: middle;\n",
       "    }\n",
       "\n",
       "    .dataframe tbody tr th {\n",
       "        vertical-align: top;\n",
       "    }\n",
       "\n",
       "    .dataframe thead th {\n",
       "        text-align: right;\n",
       "    }\n",
       "</style>\n",
       "<table border=\"1\" class=\"dataframe\">\n",
       "  <thead>\n",
       "    <tr style=\"text-align: right;\">\n",
       "      <th>Product_Category</th>\n",
       "      <th>1</th>\n",
       "      <th>2</th>\n",
       "      <th>3</th>\n",
       "      <th>4</th>\n",
       "      <th>5</th>\n",
       "      <th>6</th>\n",
       "      <th>7</th>\n",
       "      <th>8</th>\n",
       "      <th>9</th>\n",
       "      <th>10</th>\n",
       "      <th>...</th>\n",
       "      <th>12</th>\n",
       "      <th>13</th>\n",
       "      <th>14</th>\n",
       "      <th>15</th>\n",
       "      <th>16</th>\n",
       "      <th>17</th>\n",
       "      <th>18</th>\n",
       "      <th>19</th>\n",
       "      <th>20</th>\n",
       "      <th>All</th>\n",
       "    </tr>\n",
       "    <tr>\n",
       "      <th>Age</th>\n",
       "      <th></th>\n",
       "      <th></th>\n",
       "      <th></th>\n",
       "      <th></th>\n",
       "      <th></th>\n",
       "      <th></th>\n",
       "      <th></th>\n",
       "      <th></th>\n",
       "      <th></th>\n",
       "      <th></th>\n",
       "      <th></th>\n",
       "      <th></th>\n",
       "      <th></th>\n",
       "      <th></th>\n",
       "      <th></th>\n",
       "      <th></th>\n",
       "      <th></th>\n",
       "      <th></th>\n",
       "      <th></th>\n",
       "      <th></th>\n",
       "      <th></th>\n",
       "    </tr>\n",
       "  </thead>\n",
       "  <tbody>\n",
       "    <tr>\n",
       "      <th>0-17</th>\n",
       "      <td>3585</td>\n",
       "      <td>805</td>\n",
       "      <td>1200</td>\n",
       "      <td>758</td>\n",
       "      <td>4330</td>\n",
       "      <td>399</td>\n",
       "      <td>53</td>\n",
       "      <td>2258</td>\n",
       "      <td>16</td>\n",
       "      <td>111</td>\n",
       "      <td>...</td>\n",
       "      <td>125</td>\n",
       "      <td>112</td>\n",
       "      <td>39</td>\n",
       "      <td>160</td>\n",
       "      <td>229</td>\n",
       "      <td>6</td>\n",
       "      <td>27</td>\n",
       "      <td>59</td>\n",
       "      <td>90</td>\n",
       "      <td>15102</td>\n",
       "    </tr>\n",
       "    <tr>\n",
       "      <th>18-25</th>\n",
       "      <td>26962</td>\n",
       "      <td>4428</td>\n",
       "      <td>4710</td>\n",
       "      <td>2463</td>\n",
       "      <td>28522</td>\n",
       "      <td>3749</td>\n",
       "      <td>481</td>\n",
       "      <td>17911</td>\n",
       "      <td>63</td>\n",
       "      <td>603</td>\n",
       "      <td>...</td>\n",
       "      <td>439</td>\n",
       "      <td>756</td>\n",
       "      <td>230</td>\n",
       "      <td>1024</td>\n",
       "      <td>1598</td>\n",
       "      <td>41</td>\n",
       "      <td>339</td>\n",
       "      <td>275</td>\n",
       "      <td>469</td>\n",
       "      <td>99660</td>\n",
       "    </tr>\n",
       "    <tr>\n",
       "      <th>26-35</th>\n",
       "      <td>58249</td>\n",
       "      <td>8928</td>\n",
       "      <td>7662</td>\n",
       "      <td>4192</td>\n",
       "      <td>61473</td>\n",
       "      <td>8485</td>\n",
       "      <td>1651</td>\n",
       "      <td>44256</td>\n",
       "      <td>154</td>\n",
       "      <td>1787</td>\n",
       "      <td>...</td>\n",
       "      <td>1096</td>\n",
       "      <td>2096</td>\n",
       "      <td>564</td>\n",
       "      <td>2372</td>\n",
       "      <td>4118</td>\n",
       "      <td>127</td>\n",
       "      <td>1042</td>\n",
       "      <td>563</td>\n",
       "      <td>898</td>\n",
       "      <td>219587</td>\n",
       "    </tr>\n",
       "    <tr>\n",
       "      <th>36-45</th>\n",
       "      <td>27648</td>\n",
       "      <td>4912</td>\n",
       "      <td>3854</td>\n",
       "      <td>2354</td>\n",
       "      <td>29377</td>\n",
       "      <td>3899</td>\n",
       "      <td>809</td>\n",
       "      <td>23296</td>\n",
       "      <td>107</td>\n",
       "      <td>1235</td>\n",
       "      <td>...</td>\n",
       "      <td>994</td>\n",
       "      <td>1250</td>\n",
       "      <td>312</td>\n",
       "      <td>1395</td>\n",
       "      <td>1955</td>\n",
       "      <td>135</td>\n",
       "      <td>702</td>\n",
       "      <td>320</td>\n",
       "      <td>506</td>\n",
       "      <td>110013</td>\n",
       "    </tr>\n",
       "    <tr>\n",
       "      <th>46-50</th>\n",
       "      <td>10474</td>\n",
       "      <td>2105</td>\n",
       "      <td>1376</td>\n",
       "      <td>990</td>\n",
       "      <td>11971</td>\n",
       "      <td>1622</td>\n",
       "      <td>327</td>\n",
       "      <td>10656</td>\n",
       "      <td>33</td>\n",
       "      <td>520</td>\n",
       "      <td>...</td>\n",
       "      <td>520</td>\n",
       "      <td>551</td>\n",
       "      <td>149</td>\n",
       "      <td>602</td>\n",
       "      <td>879</td>\n",
       "      <td>95</td>\n",
       "      <td>351</td>\n",
       "      <td>149</td>\n",
       "      <td>227</td>\n",
       "      <td>45701</td>\n",
       "    </tr>\n",
       "    <tr>\n",
       "      <th>51-55</th>\n",
       "      <td>9049</td>\n",
       "      <td>1781</td>\n",
       "      <td>924</td>\n",
       "      <td>678</td>\n",
       "      <td>9893</td>\n",
       "      <td>1450</td>\n",
       "      <td>266</td>\n",
       "      <td>9340</td>\n",
       "      <td>29</td>\n",
       "      <td>519</td>\n",
       "      <td>...</td>\n",
       "      <td>433</td>\n",
       "      <td>483</td>\n",
       "      <td>154</td>\n",
       "      <td>508</td>\n",
       "      <td>672</td>\n",
       "      <td>107</td>\n",
       "      <td>423</td>\n",
       "      <td>134</td>\n",
       "      <td>200</td>\n",
       "      <td>38501</td>\n",
       "    </tr>\n",
       "    <tr>\n",
       "      <th>55+</th>\n",
       "      <td>4411</td>\n",
       "      <td>905</td>\n",
       "      <td>487</td>\n",
       "      <td>318</td>\n",
       "      <td>5367</td>\n",
       "      <td>862</td>\n",
       "      <td>134</td>\n",
       "      <td>6208</td>\n",
       "      <td>8</td>\n",
       "      <td>350</td>\n",
       "      <td>...</td>\n",
       "      <td>340</td>\n",
       "      <td>301</td>\n",
       "      <td>75</td>\n",
       "      <td>229</td>\n",
       "      <td>377</td>\n",
       "      <td>67</td>\n",
       "      <td>241</td>\n",
       "      <td>103</td>\n",
       "      <td>160</td>\n",
       "      <td>21504</td>\n",
       "    </tr>\n",
       "    <tr>\n",
       "      <th>All</th>\n",
       "      <td>140378</td>\n",
       "      <td>23864</td>\n",
       "      <td>20213</td>\n",
       "      <td>11753</td>\n",
       "      <td>150933</td>\n",
       "      <td>20466</td>\n",
       "      <td>3721</td>\n",
       "      <td>113925</td>\n",
       "      <td>410</td>\n",
       "      <td>5125</td>\n",
       "      <td>...</td>\n",
       "      <td>3947</td>\n",
       "      <td>5549</td>\n",
       "      <td>1523</td>\n",
       "      <td>6290</td>\n",
       "      <td>9828</td>\n",
       "      <td>578</td>\n",
       "      <td>3125</td>\n",
       "      <td>1603</td>\n",
       "      <td>2550</td>\n",
       "      <td>550068</td>\n",
       "    </tr>\n",
       "  </tbody>\n",
       "</table>\n",
       "<p>8 rows × 21 columns</p>\n",
       "</div>"
      ],
      "text/plain": [
       "Product_Category       1      2      3      4       5      6     7       8  \\\n",
       "Age                                                                          \n",
       "0-17                3585    805   1200    758    4330    399    53    2258   \n",
       "18-25              26962   4428   4710   2463   28522   3749   481   17911   \n",
       "26-35              58249   8928   7662   4192   61473   8485  1651   44256   \n",
       "36-45              27648   4912   3854   2354   29377   3899   809   23296   \n",
       "46-50              10474   2105   1376    990   11971   1622   327   10656   \n",
       "51-55               9049   1781    924    678    9893   1450   266    9340   \n",
       "55+                 4411    905    487    318    5367    862   134    6208   \n",
       "All               140378  23864  20213  11753  150933  20466  3721  113925   \n",
       "\n",
       "Product_Category    9    10  ...    12    13    14    15    16   17    18  \\\n",
       "Age                          ...                                            \n",
       "0-17               16   111  ...   125   112    39   160   229    6    27   \n",
       "18-25              63   603  ...   439   756   230  1024  1598   41   339   \n",
       "26-35             154  1787  ...  1096  2096   564  2372  4118  127  1042   \n",
       "36-45             107  1235  ...   994  1250   312  1395  1955  135   702   \n",
       "46-50              33   520  ...   520   551   149   602   879   95   351   \n",
       "51-55              29   519  ...   433   483   154   508   672  107   423   \n",
       "55+                 8   350  ...   340   301    75   229   377   67   241   \n",
       "All               410  5125  ...  3947  5549  1523  6290  9828  578  3125   \n",
       "\n",
       "Product_Category    19    20     All  \n",
       "Age                                   \n",
       "0-17                59    90   15102  \n",
       "18-25              275   469   99660  \n",
       "26-35              563   898  219587  \n",
       "36-45              320   506  110013  \n",
       "46-50              149   227   45701  \n",
       "51-55              134   200   38501  \n",
       "55+                103   160   21504  \n",
       "All               1603  2550  550068  \n",
       "\n",
       "[8 rows x 21 columns]"
      ]
     },
     "execution_count": 27,
     "metadata": {},
     "output_type": "execute_result"
    }
   ],
   "source": [
    "pd.crosstab(df['Age'],df['Product_Category'],margins=True)"
   ]
  },
  {
   "cell_type": "raw",
   "id": "145dc179",
   "metadata": {},
   "source": [
    "Age wise number of orders placed in different Product Category"
   ]
  },
  {
   "cell_type": "code",
   "execution_count": 28,
   "id": "1d58b669",
   "metadata": {},
   "outputs": [
    {
     "data": {
      "text/plain": [
       "Gender\n",
       "F    8734.565765\n",
       "M    9437.526040\n",
       "Name: Purchase, dtype: float64"
      ]
     },
     "execution_count": 28,
     "metadata": {},
     "output_type": "execute_result"
    }
   ],
   "source": [
    "df.groupby('Gender')['Purchase'].mean()"
   ]
  },
  {
   "cell_type": "raw",
   "id": "77f72c3f",
   "metadata": {},
   "source": [
    "Gender wise mean value of Purchase amount and we can see that mean purchase of male is bit higher than the Female."
   ]
  },
  {
   "cell_type": "code",
   "execution_count": 29,
   "id": "0421f383",
   "metadata": {},
   "outputs": [
    {
     "data": {
      "text/plain": [
       "Gender\n",
       "F    4767.233289\n",
       "M    5092.186210\n",
       "Name: Purchase, dtype: float64"
      ]
     },
     "execution_count": 29,
     "metadata": {},
     "output_type": "execute_result"
    }
   ],
   "source": [
    "df.groupby('Gender')['Purchase'].std()"
   ]
  },
  {
   "cell_type": "raw",
   "id": "23296eab",
   "metadata": {},
   "source": [
    "And Standard deviation is also high almost 50% of the  mean value of Purchase amount and here also standard deviation of Male is bit higher than the Female."
   ]
  },
  {
   "cell_type": "code",
   "execution_count": 30,
   "id": "9bc26d55",
   "metadata": {},
   "outputs": [],
   "source": [
    "df_female = df[df['Gender']=='F']\n",
    "df_male = df[df['Gender']=='M']"
   ]
  },
  {
   "cell_type": "code",
   "execution_count": 31,
   "id": "f6333d45",
   "metadata": {},
   "outputs": [
    {
     "data": {
      "text/plain": [
       "(8734.565765155476, 9437.526040472265)"
      ]
     },
     "execution_count": 31,
     "metadata": {},
     "output_type": "execute_result"
    }
   ],
   "source": [
    "df_female['Purchase'].mean(),df_male['Purchase'].mean()\n"
   ]
  },
  {
   "cell_type": "raw",
   "id": "1cb81e89",
   "metadata": {},
   "source": [
    "We can see that female has lower mean value than male. So we can say that Female Purchase amount is lesser than the male Purchase amount."
   ]
  },
  {
   "cell_type": "code",
   "execution_count": 32,
   "id": "56afadfd",
   "metadata": {},
   "outputs": [
    {
     "data": {
      "text/plain": [
       "Text(0.5, 1.0, 'Male Purchase Pattern')"
      ]
     },
     "execution_count": 32,
     "metadata": {},
     "output_type": "execute_result"
    },
    {
     "data": {
      "image/png": "[encoded data removed]",
      "text/plain": [
       "<Figure size 640x480 with 2 Axes>"
      ]
     },
     "metadata": {},
     "output_type": "display_data"
    }
   ],
   "source": [
    "plt.subplot(1,3,1)\n",
    "sns.histplot(df_female['Purchase']).set_title(\"Female Purchase Pattern\")\n",
    "plt.subplot(1,3,3)\n",
    "sns.histplot(df_male['Purchase']).set_title(\"Male Purchase Pattern\")"
   ]
  },
  {
   "cell_type": "raw",
   "id": "6bac7707",
   "metadata": {},
   "source": [
    "Here after looking the graph we can say that Male and Female both order Pattern is widely scattered across the purchase amount from 12 to more than 20000 And it is not uniformly Distributed."
   ]
  },
  {
   "cell_type": "code",
   "execution_count": 33,
   "id": "489f9804",
   "metadata": {},
   "outputs": [
    {
     "data": {
      "text/html": [
       "<div>\n",
       "<style scoped>\n",
       "    .dataframe tbody tr th:only-of-type {\n",
       "        vertical-align: middle;\n",
       "    }\n",
       "\n",
       "    .dataframe tbody tr th {\n",
       "        vertical-align: top;\n",
       "    }\n",
       "\n",
       "    .dataframe thead th {\n",
       "        text-align: right;\n",
       "    }\n",
       "</style>\n",
       "<table border=\"1\" class=\"dataframe\">\n",
       "  <thead>\n",
       "    <tr style=\"text-align: right;\">\n",
       "      <th></th>\n",
       "      <th>User_ID</th>\n",
       "      <th>Product_ID</th>\n",
       "      <th>Gender</th>\n",
       "      <th>Age</th>\n",
       "      <th>Occupation</th>\n",
       "      <th>City_Category</th>\n",
       "      <th>Stay_In_Current_City_Years</th>\n",
       "      <th>Marital_Status</th>\n",
       "      <th>Product_Category</th>\n",
       "      <th>Purchase</th>\n",
       "    </tr>\n",
       "  </thead>\n",
       "  <tbody>\n",
       "    <tr>\n",
       "      <th>4</th>\n",
       "      <td>1000002</td>\n",
       "      <td>P00285442</td>\n",
       "      <td>M</td>\n",
       "      <td>55+</td>\n",
       "      <td>16</td>\n",
       "      <td>C</td>\n",
       "      <td>4+</td>\n",
       "      <td>0</td>\n",
       "      <td>8</td>\n",
       "      <td>7969</td>\n",
       "    </tr>\n",
       "    <tr>\n",
       "      <th>5</th>\n",
       "      <td>1000003</td>\n",
       "      <td>P00193542</td>\n",
       "      <td>M</td>\n",
       "      <td>26-35</td>\n",
       "      <td>15</td>\n",
       "      <td>A</td>\n",
       "      <td>3</td>\n",
       "      <td>0</td>\n",
       "      <td>1</td>\n",
       "      <td>15227</td>\n",
       "    </tr>\n",
       "    <tr>\n",
       "      <th>6</th>\n",
       "      <td>1000004</td>\n",
       "      <td>P00184942</td>\n",
       "      <td>M</td>\n",
       "      <td>46-50</td>\n",
       "      <td>7</td>\n",
       "      <td>B</td>\n",
       "      <td>2</td>\n",
       "      <td>1</td>\n",
       "      <td>1</td>\n",
       "      <td>19215</td>\n",
       "    </tr>\n",
       "    <tr>\n",
       "      <th>7</th>\n",
       "      <td>1000004</td>\n",
       "      <td>P00346142</td>\n",
       "      <td>M</td>\n",
       "      <td>46-50</td>\n",
       "      <td>7</td>\n",
       "      <td>B</td>\n",
       "      <td>2</td>\n",
       "      <td>1</td>\n",
       "      <td>1</td>\n",
       "      <td>15854</td>\n",
       "    </tr>\n",
       "    <tr>\n",
       "      <th>8</th>\n",
       "      <td>1000004</td>\n",
       "      <td>P0097242</td>\n",
       "      <td>M</td>\n",
       "      <td>46-50</td>\n",
       "      <td>7</td>\n",
       "      <td>B</td>\n",
       "      <td>2</td>\n",
       "      <td>1</td>\n",
       "      <td>1</td>\n",
       "      <td>15686</td>\n",
       "    </tr>\n",
       "    <tr>\n",
       "      <th>...</th>\n",
       "      <td>...</td>\n",
       "      <td>...</td>\n",
       "      <td>...</td>\n",
       "      <td>...</td>\n",
       "      <td>...</td>\n",
       "      <td>...</td>\n",
       "      <td>...</td>\n",
       "      <td>...</td>\n",
       "      <td>...</td>\n",
       "      <td>...</td>\n",
       "    </tr>\n",
       "    <tr>\n",
       "      <th>550057</th>\n",
       "      <td>1006023</td>\n",
       "      <td>P00370853</td>\n",
       "      <td>M</td>\n",
       "      <td>26-35</td>\n",
       "      <td>0</td>\n",
       "      <td>C</td>\n",
       "      <td>2</td>\n",
       "      <td>1</td>\n",
       "      <td>19</td>\n",
       "      <td>61</td>\n",
       "    </tr>\n",
       "    <tr>\n",
       "      <th>550058</th>\n",
       "      <td>1006024</td>\n",
       "      <td>P00372445</td>\n",
       "      <td>M</td>\n",
       "      <td>26-35</td>\n",
       "      <td>12</td>\n",
       "      <td>A</td>\n",
       "      <td>0</td>\n",
       "      <td>1</td>\n",
       "      <td>20</td>\n",
       "      <td>121</td>\n",
       "    </tr>\n",
       "    <tr>\n",
       "      <th>550060</th>\n",
       "      <td>1006026</td>\n",
       "      <td>P00371644</td>\n",
       "      <td>M</td>\n",
       "      <td>36-45</td>\n",
       "      <td>6</td>\n",
       "      <td>C</td>\n",
       "      <td>1</td>\n",
       "      <td>1</td>\n",
       "      <td>20</td>\n",
       "      <td>494</td>\n",
       "    </tr>\n",
       "    <tr>\n",
       "      <th>550062</th>\n",
       "      <td>1006032</td>\n",
       "      <td>P00372445</td>\n",
       "      <td>M</td>\n",
       "      <td>46-50</td>\n",
       "      <td>7</td>\n",
       "      <td>A</td>\n",
       "      <td>3</td>\n",
       "      <td>0</td>\n",
       "      <td>20</td>\n",
       "      <td>473</td>\n",
       "    </tr>\n",
       "    <tr>\n",
       "      <th>550063</th>\n",
       "      <td>1006033</td>\n",
       "      <td>P00372445</td>\n",
       "      <td>M</td>\n",
       "      <td>51-55</td>\n",
       "      <td>13</td>\n",
       "      <td>B</td>\n",
       "      <td>1</td>\n",
       "      <td>1</td>\n",
       "      <td>20</td>\n",
       "      <td>368</td>\n",
       "    </tr>\n",
       "  </tbody>\n",
       "</table>\n",
       "<p>414259 rows × 10 columns</p>\n",
       "</div>"
      ],
      "text/plain": [
       "        User_ID Product_ID Gender    Age  Occupation City_Category  \\\n",
       "4       1000002  P00285442      M    55+          16             C   \n",
       "5       1000003  P00193542      M  26-35          15             A   \n",
       "6       1000004  P00184942      M  46-50           7             B   \n",
       "7       1000004  P00346142      M  46-50           7             B   \n",
       "8       1000004   P0097242      M  46-50           7             B   \n",
       "...         ...        ...    ...    ...         ...           ...   \n",
       "550057  1006023  P00370853      M  26-35           0             C   \n",
       "550058  1006024  P00372445      M  26-35          12             A   \n",
       "550060  1006026  P00371644      M  36-45           6             C   \n",
       "550062  1006032  P00372445      M  46-50           7             A   \n",
       "550063  1006033  P00372445      M  51-55          13             B   \n",
       "\n",
       "       Stay_In_Current_City_Years  Marital_Status  Product_Category  Purchase  \n",
       "4                              4+               0                 8      7969  \n",
       "5                               3               0                 1     15227  \n",
       "6                               2               1                 1     19215  \n",
       "7                               2               1                 1     15854  \n",
       "8                               2               1                 1     15686  \n",
       "...                           ...             ...               ...       ...  \n",
       "550057                          2               1                19        61  \n",
       "550058                          0               1                20       121  \n",
       "550060                          1               1                20       494  \n",
       "550062                          3               0                20       473  \n",
       "550063                          1               1                20       368  \n",
       "\n",
       "[414259 rows x 10 columns]"
      ]
     },
     "execution_count": 33,
     "metadata": {},
     "output_type": "execute_result"
    }
   ],
   "source": [
    "df_male"
   ]
  },
  {
   "cell_type": "raw",
   "id": "97d81acc",
   "metadata": {},
   "source": [
    "for applying CLT taking sample of mean of 300, 3000 and 30000  for 2000 times and will try to find the 95% confidence interval for male and female Purchase."
   ]
  },
  {
   "cell_type": "code",
   "execution_count": 34,
   "id": "a736604e",
   "metadata": {},
   "outputs": [],
   "source": [
    "df_male_samp300 = [np.mean(df_male['Purchase'].sample(300)) for i in range(2000)]\n",
    "df_female_samp300 = [np.mean(df_female['Purchase'].sample(300)) for i in range(2000)]\n",
    "df_male_samp3000 = [np.mean(df_male['Purchase'].sample(3000)) for i in range(2000)]\n",
    "df_female_samp3000 = [np.mean(df_female['Purchase'].sample(3000)) for i in range(2000)]\n",
    "df_male_samp30000 = [np.mean(df_male['Purchase'].sample(30000)) for i in range(2000)]\n",
    "df_female_samp30000 = [np.mean(df_female['Purchase'].sample(30000)) for i in range(2000)]"
   ]
  },
  {
   "cell_type": "code",
   "execution_count": 35,
   "id": "1273ab7d",
   "metadata": {},
   "outputs": [
    {
     "data": {
      "text/plain": [
       "Text(0.5, 1.0, 'Female with 30000 samples')"
      ]
     },
     "execution_count": 35,
     "metadata": {},
     "output_type": "execute_result"
    },
    {
     "data": {
      "image/png": "[encoded data removed]",
      "text/plain": [
       "<Figure size 1000x600 with 6 Axes>"
      ]
     },
     "metadata": {},
     "output_type": "display_data"
    }
   ],
   "source": [
    "plt.figure(figsize=(10,6))\n",
    "plt.subplot(3,5,1)\n",
    "sns.histplot(df_male_samp300,kde=True).set_title(\"Male with 300 samples\")\n",
    "plt.subplot(3,5,11)\n",
    "sns.histplot(df_female_samp300,kde=True).set_title(\"Female with 300 samples\")\n",
    "plt.subplot(3,5,3)\n",
    "sns.histplot(df_male_samp3000,kde=True).set_title(\"Male with 3000 samples\")\n",
    "plt.subplot(3,5,13)\n",
    "sns.histplot(df_female_samp3000,kde=True).set_title(\"Female with 3000 samples\")\n",
    "plt.subplot(3,5,5)\n",
    "sns.histplot(df_male_samp30000,kde=True).set_title(\"Male with 30000 samples\")\n",
    "plt.subplot(3,5,15)\n",
    "sns.histplot(df_female_samp30000,kde=True).set_title(\"Female with 30000 samples\")"
   ]
  },
  {
   "cell_type": "raw",
   "id": "5b314cfe",
   "metadata": {},
   "source": [
    "As sample size increases data tends more to mean value and curve get sharpen and normal."
   ]
  },
  {
   "cell_type": "code",
   "execution_count": 36,
   "id": "423e22e3",
   "metadata": {},
   "outputs": [
    {
     "data": {
      "text/html": [
       "<div>\n",
       "<style scoped>\n",
       "    .dataframe tbody tr th:only-of-type {\n",
       "        vertical-align: middle;\n",
       "    }\n",
       "\n",
       "    .dataframe tbody tr th {\n",
       "        vertical-align: top;\n",
       "    }\n",
       "\n",
       "    .dataframe thead th {\n",
       "        text-align: right;\n",
       "    }\n",
       "</style>\n",
       "<table border=\"1\" class=\"dataframe\">\n",
       "  <thead>\n",
       "    <tr style=\"text-align: right;\">\n",
       "      <th></th>\n",
       "      <th>Sample</th>\n",
       "      <th>mean</th>\n",
       "      <th>std</th>\n",
       "    </tr>\n",
       "  </thead>\n",
       "  <tbody>\n",
       "    <tr>\n",
       "      <th>0</th>\n",
       "      <td>Male_300</td>\n",
       "      <td>9436.794093</td>\n",
       "      <td>295.544391</td>\n",
       "    </tr>\n",
       "    <tr>\n",
       "      <th>1</th>\n",
       "      <td>Female_300</td>\n",
       "      <td>8741.228758</td>\n",
       "      <td>278.028417</td>\n",
       "    </tr>\n",
       "    <tr>\n",
       "      <th>2</th>\n",
       "      <td>Male_3000</td>\n",
       "      <td>9436.314980</td>\n",
       "      <td>91.666525</td>\n",
       "    </tr>\n",
       "    <tr>\n",
       "      <th>3</th>\n",
       "      <td>Female_3000</td>\n",
       "      <td>8738.995662</td>\n",
       "      <td>84.828825</td>\n",
       "    </tr>\n",
       "    <tr>\n",
       "      <th>4</th>\n",
       "      <td>Male_30000</td>\n",
       "      <td>9437.707739</td>\n",
       "      <td>28.103488</td>\n",
       "    </tr>\n",
       "    <tr>\n",
       "      <th>5</th>\n",
       "      <td>Female_30000</td>\n",
       "      <td>8734.575320</td>\n",
       "      <td>24.933517</td>\n",
       "    </tr>\n",
       "  </tbody>\n",
       "</table>\n",
       "</div>"
      ],
      "text/plain": [
       "         Sample         mean         std\n",
       "0      Male_300  9436.794093  295.544391\n",
       "1    Female_300  8741.228758  278.028417\n",
       "2     Male_3000  9436.314980   91.666525\n",
       "3   Female_3000  8738.995662   84.828825\n",
       "4    Male_30000  9437.707739   28.103488\n",
       "5  Female_30000  8734.575320   24.933517"
      ]
     },
     "execution_count": 36,
     "metadata": {},
     "output_type": "execute_result"
    }
   ],
   "source": [
    "muM300 = np.array(df_male_samp300).mean()\n",
    "sigmaM300 = np.array(df_male_samp300).std()\n",
    "muF300 = np.array(df_female_samp300).mean()\n",
    "sigmaF300 = np.array(df_female_samp300).std()\n",
    "muM3000 = np.array(df_male_samp3000).mean()\n",
    "sigmaM3000 = np.array(df_male_samp3000).std()\n",
    "muF3000 = np.array(df_female_samp3000).mean()\n",
    "sigmaF3000 = np.array(df_female_samp3000).std()\n",
    "muM30000 = np.array(df_male_samp30000).mean()\n",
    "sigmaM30000 = np.array(df_male_samp30000).std()\n",
    "muF30000 = np.array(df_female_samp30000).mean()\n",
    "sigmaF30000 = np.array(df_female_samp30000).std()\n",
    "\n",
    "\n",
    "\n",
    "\n",
    "mf_mean_std = [[\"Male_300\",muM300, sigmaM300],[\"Female_300\",muF300, sigmaF300],[\"Male_3000\",muM3000, sigmaM3000],[\"Female_3000\",muF3000, sigmaF3000],[\"Male_30000\",muM30000, sigmaM30000],[\"Female_30000\",muF30000, sigmaF30000]]\n",
    "mf_mean_std_data = pd.DataFrame(mf_mean_std,columns=[\"Sample\",\"mean\",\"std\"])\n",
    "mf_mean_std_data"
   ]
  },
  {
   "cell_type": "markdown",
   "id": "3d209173",
   "metadata": {},
   "source": [
    "Here we can see that as the number of sample increases mean decreases and standard deviation increases but it is not necessary. And also we have the mean of the whole dataset for female and male Purchase amount (8734.565765155476, 9437.526040472265) and we can see that as the as number of samples increase our sample is more near to Population mean."
   ]
  },
  {
   "cell_type": "code",
   "execution_count": 37,
   "id": "117c746e",
   "metadata": {},
   "outputs": [],
   "source": [
    "from scipy.stats import norm"
   ]
  },
  {
   "cell_type": "code",
   "execution_count": 38,
   "id": "7ab2ae14",
   "metadata": {},
   "outputs": [
    {
     "data": {
      "text/html": [
       "<div>\n",
       "<style scoped>\n",
       "    .dataframe tbody tr th:only-of-type {\n",
       "        vertical-align: middle;\n",
       "    }\n",
       "\n",
       "    .dataframe tbody tr th {\n",
       "        vertical-align: top;\n",
       "    }\n",
       "\n",
       "    .dataframe thead th {\n",
       "        text-align: right;\n",
       "    }\n",
       "</style>\n",
       "<table border=\"1\" class=\"dataframe\">\n",
       "  <thead>\n",
       "    <tr style=\"text-align: right;\">\n",
       "      <th></th>\n",
       "      <th>From</th>\n",
       "      <th>To</th>\n",
       "    </tr>\n",
       "  </thead>\n",
       "  <tbody>\n",
       "    <tr>\n",
       "      <th>M300</th>\n",
       "      <td>9403.350712</td>\n",
       "      <td>9470.237475</td>\n",
       "    </tr>\n",
       "    <tr>\n",
       "      <th>F300</th>\n",
       "      <td>8709.767459</td>\n",
       "      <td>8772.690057</td>\n",
       "    </tr>\n",
       "    <tr>\n",
       "      <th>M3000</th>\n",
       "      <td>9433.034796</td>\n",
       "      <td>9439.595164</td>\n",
       "    </tr>\n",
       "    <tr>\n",
       "      <th>F3000</th>\n",
       "      <td>8735.960157</td>\n",
       "      <td>8742.031166</td>\n",
       "    </tr>\n",
       "    <tr>\n",
       "      <th>M30000</th>\n",
       "      <td>9437.389724</td>\n",
       "      <td>9438.025754</td>\n",
       "    </tr>\n",
       "    <tr>\n",
       "      <th>F30000</th>\n",
       "      <td>8734.293176</td>\n",
       "      <td>8734.857464</td>\n",
       "    </tr>\n",
       "  </tbody>\n",
       "</table>\n",
       "</div>"
      ],
      "text/plain": [
       "               From           To\n",
       "M300    9403.350712  9470.237475\n",
       "F300    8709.767459  8772.690057\n",
       "M3000   9433.034796  9439.595164\n",
       "F3000   8735.960157  8742.031166\n",
       "M30000  9437.389724  9438.025754\n",
       "F30000  8734.293176  8734.857464"
      ]
     },
     "execution_count": 38,
     "metadata": {},
     "output_type": "execute_result"
    }
   ],
   "source": [
    "M300_confidence = norm.interval(confidence=.95,loc=muM300,scale=sigmaM300/np.sqrt(300))\n",
    "F300_confidence = norm.interval(confidence=.95,loc=muF300,scale=sigmaF300/np.sqrt(300))\n",
    "M3000_confidence = norm.interval(confidence=.95,loc=muM3000,scale=sigmaM3000/np.sqrt(3000))\n",
    "F3000_confidence = norm.interval(confidence=.95,loc=muF3000,scale=sigmaF3000/np.sqrt(3000))\n",
    "M30000_confidence = norm.interval(confidence=.95,loc=muM30000,scale=sigmaM30000/np.sqrt(30000))\n",
    "F30000_confidence = norm.interval(confidence=.95,loc=muF30000,scale=sigmaF30000/np.sqrt(30000))\n",
    "confidence_interval = pd.DataFrame({ \"M300\":M300_confidence,\"F300\":F300_confidence,\"M3000\":M3000_confidence,\"F3000\":F3000_confidence,\"M30000\":M30000_confidence,\"F30000\":F30000_confidence,}).T\n",
    "confidence_interval.rename(columns={0:\"From\" , 1:\"To\"},inplace=True)\n",
    "confidence_interval"
   ]
  },
  {
   "cell_type": "raw",
   "id": "df386643",
   "metadata": {},
   "source": [
    "for Male with 300 sample 95% Confidence Interval lies from to 9220 to 9766 which is more than the same sample size of Female."
   ]
  },
  {
   "cell_type": "code",
   "execution_count": 39,
   "id": "5b3e0cea",
   "metadata": {},
   "outputs": [
    {
     "data": {
      "text/html": [
       "<div>\n",
       "<style scoped>\n",
       "    .dataframe tbody tr th:only-of-type {\n",
       "        vertical-align: middle;\n",
       "    }\n",
       "\n",
       "    .dataframe tbody tr th {\n",
       "        vertical-align: top;\n",
       "    }\n",
       "\n",
       "    .dataframe thead th {\n",
       "        text-align: right;\n",
       "    }\n",
       "</style>\n",
       "<table border=\"1\" class=\"dataframe\">\n",
       "  <thead>\n",
       "    <tr style=\"text-align: right;\">\n",
       "      <th></th>\n",
       "      <th>From</th>\n",
       "      <th>To</th>\n",
       "      <th>diff</th>\n",
       "    </tr>\n",
       "  </thead>\n",
       "  <tbody>\n",
       "    <tr>\n",
       "      <th>M300</th>\n",
       "      <td>9403.350712</td>\n",
       "      <td>9470.237475</td>\n",
       "      <td>66.886763</td>\n",
       "    </tr>\n",
       "    <tr>\n",
       "      <th>F300</th>\n",
       "      <td>8709.767459</td>\n",
       "      <td>8772.690057</td>\n",
       "      <td>62.922598</td>\n",
       "    </tr>\n",
       "    <tr>\n",
       "      <th>M3000</th>\n",
       "      <td>9433.034796</td>\n",
       "      <td>9439.595164</td>\n",
       "      <td>6.560368</td>\n",
       "    </tr>\n",
       "    <tr>\n",
       "      <th>F3000</th>\n",
       "      <td>8735.960157</td>\n",
       "      <td>8742.031166</td>\n",
       "      <td>6.071010</td>\n",
       "    </tr>\n",
       "    <tr>\n",
       "      <th>M30000</th>\n",
       "      <td>9437.389724</td>\n",
       "      <td>9438.025754</td>\n",
       "      <td>0.636030</td>\n",
       "    </tr>\n",
       "    <tr>\n",
       "      <th>F30000</th>\n",
       "      <td>8734.293176</td>\n",
       "      <td>8734.857464</td>\n",
       "      <td>0.564288</td>\n",
       "    </tr>\n",
       "  </tbody>\n",
       "</table>\n",
       "</div>"
      ],
      "text/plain": [
       "               From           To       diff\n",
       "M300    9403.350712  9470.237475  66.886763\n",
       "F300    8709.767459  8772.690057  62.922598\n",
       "M3000   9433.034796  9439.595164   6.560368\n",
       "F3000   8735.960157  8742.031166   6.071010\n",
       "M30000  9437.389724  9438.025754   0.636030\n",
       "F30000  8734.293176  8734.857464   0.564288"
      ]
     },
     "execution_count": 39,
     "metadata": {},
     "output_type": "execute_result"
    }
   ],
   "source": [
    "confidence_interval[\"diff\"] = confidence_interval[\"To\"]-confidence_interval[\"From\"]\n",
    "confidence_interval"
   ]
  },
  {
   "cell_type": "raw",
   "id": "5f7e6829",
   "metadata": {},
   "source": [
    "And here the starting and ending Purchase amount is keep decreasing in confidence interval as the sample size increases but surprisingly difference between them is incresed"
   ]
  },
  {
   "cell_type": "code",
   "execution_count": 40,
   "id": "377f2cd0",
   "metadata": {},
   "outputs": [
    {
     "data": {
      "text/plain": [
       "<AxesSubplot:ylabel='Count'>"
      ]
     },
     "execution_count": 40,
     "metadata": {},
     "output_type": "execute_result"
    },
    {
     "data": {
      "image/png": "[encoded data removed]",
      "text/plain": [
       "<Figure size 640x480 with 3 Axes>"
      ]
     },
     "metadata": {},
     "output_type": "display_data"
    }
   ],
   "source": [
    "plt.subplot(3,3,1)\n",
    "sns.histplot(df_male_samp300,kde=True,color='red')\n",
    "sns.histplot(df_female_samp300,kde=True,color='green')\n",
    "plt.subplot(3,3,3)\n",
    "sns.histplot(df_male_samp3000,kde=True,color='red')\n",
    "sns.histplot(df_female_samp3000,kde=True,color='green')\n",
    "plt.subplot(3,3,7)\n",
    "sns.histplot(df_male_samp30000,kde=True,color='red')\n",
    "sns.histplot(df_female_samp30000,kde=True,color='green')"
   ]
  },
  {
   "cell_type": "raw",
   "id": "f156e0ed",
   "metadata": {},
   "source": [
    "After looking the overlapping plot of male and female in norm distribution we can state that female Purchase average is smaller than the male average purchase. in smaller sample differece is low but as the sample size increases difference is very much visible"
   ]
  },
  {
   "cell_type": "code",
   "execution_count": 41,
   "id": "46097fc9",
   "metadata": {},
   "outputs": [
    {
     "data": {
      "text/html": [
       "<div>\n",
       "<style scoped>\n",
       "    .dataframe tbody tr th:only-of-type {\n",
       "        vertical-align: middle;\n",
       "    }\n",
       "\n",
       "    .dataframe tbody tr th {\n",
       "        vertical-align: top;\n",
       "    }\n",
       "\n",
       "    .dataframe thead th {\n",
       "        text-align: right;\n",
       "    }\n",
       "</style>\n",
       "<table border=\"1\" class=\"dataframe\">\n",
       "  <thead>\n",
       "    <tr style=\"text-align: right;\">\n",
       "      <th></th>\n",
       "      <th>User_ID</th>\n",
       "      <th>Product_ID</th>\n",
       "      <th>Gender</th>\n",
       "      <th>Age</th>\n",
       "      <th>Occupation</th>\n",
       "      <th>City_Category</th>\n",
       "      <th>Stay_In_Current_City_Years</th>\n",
       "      <th>Marital_Status</th>\n",
       "      <th>Product_Category</th>\n",
       "      <th>Purchase</th>\n",
       "    </tr>\n",
       "  </thead>\n",
       "  <tbody>\n",
       "    <tr>\n",
       "      <th>0</th>\n",
       "      <td>1000001</td>\n",
       "      <td>P00069042</td>\n",
       "      <td>F</td>\n",
       "      <td>0-17</td>\n",
       "      <td>10</td>\n",
       "      <td>A</td>\n",
       "      <td>2</td>\n",
       "      <td>0</td>\n",
       "      <td>3</td>\n",
       "      <td>8370</td>\n",
       "    </tr>\n",
       "    <tr>\n",
       "      <th>1</th>\n",
       "      <td>1000001</td>\n",
       "      <td>P00248942</td>\n",
       "      <td>F</td>\n",
       "      <td>0-17</td>\n",
       "      <td>10</td>\n",
       "      <td>A</td>\n",
       "      <td>2</td>\n",
       "      <td>0</td>\n",
       "      <td>1</td>\n",
       "      <td>15200</td>\n",
       "    </tr>\n",
       "    <tr>\n",
       "      <th>2</th>\n",
       "      <td>1000001</td>\n",
       "      <td>P00087842</td>\n",
       "      <td>F</td>\n",
       "      <td>0-17</td>\n",
       "      <td>10</td>\n",
       "      <td>A</td>\n",
       "      <td>2</td>\n",
       "      <td>0</td>\n",
       "      <td>12</td>\n",
       "      <td>1422</td>\n",
       "    </tr>\n",
       "    <tr>\n",
       "      <th>3</th>\n",
       "      <td>1000001</td>\n",
       "      <td>P00085442</td>\n",
       "      <td>F</td>\n",
       "      <td>0-17</td>\n",
       "      <td>10</td>\n",
       "      <td>A</td>\n",
       "      <td>2</td>\n",
       "      <td>0</td>\n",
       "      <td>12</td>\n",
       "      <td>1057</td>\n",
       "    </tr>\n",
       "    <tr>\n",
       "      <th>4</th>\n",
       "      <td>1000002</td>\n",
       "      <td>P00285442</td>\n",
       "      <td>M</td>\n",
       "      <td>55+</td>\n",
       "      <td>16</td>\n",
       "      <td>C</td>\n",
       "      <td>4+</td>\n",
       "      <td>0</td>\n",
       "      <td>8</td>\n",
       "      <td>7969</td>\n",
       "    </tr>\n",
       "  </tbody>\n",
       "</table>\n",
       "</div>"
      ],
      "text/plain": [
       "   User_ID Product_ID Gender   Age  Occupation City_Category  \\\n",
       "0  1000001  P00069042      F  0-17          10             A   \n",
       "1  1000001  P00248942      F  0-17          10             A   \n",
       "2  1000001  P00087842      F  0-17          10             A   \n",
       "3  1000001  P00085442      F  0-17          10             A   \n",
       "4  1000002  P00285442      M   55+          16             C   \n",
       "\n",
       "  Stay_In_Current_City_Years  Marital_Status  Product_Category  Purchase  \n",
       "0                          2               0                 3      8370  \n",
       "1                          2               0                 1     15200  \n",
       "2                          2               0                12      1422  \n",
       "3                          2               0                12      1057  \n",
       "4                         4+               0                 8      7969  "
      ]
     },
     "execution_count": 41,
     "metadata": {},
     "output_type": "execute_result"
    }
   ],
   "source": [
    "df.head()"
   ]
  },
  {
   "cell_type": "code",
   "execution_count": 42,
   "id": "c3e16388",
   "metadata": {},
   "outputs": [],
   "source": [
    "df_unmarried = df[df['Marital_Status'] == 0]\n",
    "df_married = df[df['Marital_Status'] == 1]"
   ]
  },
  {
   "cell_type": "code",
   "execution_count": 43,
   "id": "a0659f51",
   "metadata": {},
   "outputs": [
    {
     "data": {
      "text/plain": [
       "(9265.907618921507, 9261.174574082374)"
      ]
     },
     "execution_count": 43,
     "metadata": {},
     "output_type": "execute_result"
    }
   ],
   "source": [
    "df_unmarried[\"Purchase\"].mean(),df_married[\"Purchase\"].mean()"
   ]
  },
  {
   "cell_type": "code",
   "execution_count": 44,
   "id": "be6ac769",
   "metadata": {},
   "outputs": [],
   "source": [
    "df_unmarried_samp300 = [np.mean(df_unmarried['Purchase'].sample(300)) for i in range(2000)]\n",
    "df_married_samp300 = [np.mean(df_married['Purchase'].sample(300)) for i in range(2000)]\n",
    "df_unmarried_samp3000 = [np.mean(df_unmarried['Purchase'].sample(3000)) for i in range(2000)]\n",
    "df_married_samp3000 = [np.mean(df_married['Purchase'].sample(3000)) for i in range(2000)]\n",
    "df_unmarried_samp30000 = [np.mean(df_unmarried['Purchase'].sample(30000)) for i in range(2000)]\n",
    "df_married_samp30000 = [np.mean(df_married['Purchase'].sample(30000)) for i in range(2000)]\n"
   ]
  },
  {
   "cell_type": "code",
   "execution_count": 45,
   "id": "d8189747",
   "metadata": {},
   "outputs": [
    {
     "data": {
      "text/plain": [
       "Text(0.5, 1.0, 'Married sample of 30000')"
      ]
     },
     "execution_count": 45,
     "metadata": {},
     "output_type": "execute_result"
    },
    {
     "data": {
      "image/png": "[encoded data removed]",
      "text/plain": [
       "<Figure size 1000x600 with 6 Axes>"
      ]
     },
     "metadata": {},
     "output_type": "display_data"
    }
   ],
   "source": [
    "plt.figure(figsize=(10,6))\n",
    "plt.subplot(3,5,1)\n",
    "sns.histplot(df_unmarried_samp300,kde=True).set_title(\"Unmarried sample of 300\")\n",
    "plt.subplot(3,5,11)\n",
    "sns.histplot(df_married_samp300,kde=True).set_title(\"Married sample of 300\")\n",
    "plt.subplot(3,5,3)\n",
    "sns.histplot(df_unmarried_samp3000,kde=True).set_title(\"Unmarried sample of 3000\")\n",
    "plt.subplot(3,5,13)\n",
    "sns.histplot(df_married_samp3000,kde=True).set_title(\"Married sample of 3000\")\n",
    "plt.subplot(3,5,5)\n",
    "sns.histplot(df_unmarried_samp30000,kde=True).set_title(\"Unmarried sample of 30000\")\n",
    "plt.subplot(3,5,15)\n",
    "sns.histplot(df_married_samp30000,kde=True).set_title(\"Married sample of 30000\")\n"
   ]
  },
  {
   "cell_type": "raw",
   "id": "5f3d1cf2",
   "metadata": {},
   "source": [
    "After taking mean of sample 300, 3000 and 30000 for 2000 times of Unmarried and Married people we get the plot like normal distribution. As we increase number of samples mean gets more to population mean and curve get more sharpen."
   ]
  },
  {
   "cell_type": "code",
   "execution_count": 46,
   "id": "c412a416",
   "metadata": {},
   "outputs": [
    {
     "data": {
      "text/html": [
       "<div>\n",
       "<style scoped>\n",
       "    .dataframe tbody tr th:only-of-type {\n",
       "        vertical-align: middle;\n",
       "    }\n",
       "\n",
       "    .dataframe tbody tr th {\n",
       "        vertical-align: top;\n",
       "    }\n",
       "\n",
       "    .dataframe thead th {\n",
       "        text-align: right;\n",
       "    }\n",
       "</style>\n",
       "<table border=\"1\" class=\"dataframe\">\n",
       "  <thead>\n",
       "    <tr style=\"text-align: right;\">\n",
       "      <th></th>\n",
       "      <th>Sample</th>\n",
       "      <th>mean</th>\n",
       "      <th>std</th>\n",
       "    </tr>\n",
       "  </thead>\n",
       "  <tbody>\n",
       "    <tr>\n",
       "      <th>0</th>\n",
       "      <td>Unmarried300</td>\n",
       "      <td>9256.979897</td>\n",
       "      <td>291.345191</td>\n",
       "    </tr>\n",
       "    <tr>\n",
       "      <th>1</th>\n",
       "      <td>Married300</td>\n",
       "      <td>9256.053835</td>\n",
       "      <td>290.995162</td>\n",
       "    </tr>\n",
       "    <tr>\n",
       "      <th>2</th>\n",
       "      <td>Unmarried3000</td>\n",
       "      <td>9263.638175</td>\n",
       "      <td>93.469701</td>\n",
       "    </tr>\n",
       "    <tr>\n",
       "      <th>3</th>\n",
       "      <td>Married3000</td>\n",
       "      <td>9262.873043</td>\n",
       "      <td>90.720472</td>\n",
       "    </tr>\n",
       "    <tr>\n",
       "      <th>4</th>\n",
       "      <td>Unmarried30000</td>\n",
       "      <td>9267.280859</td>\n",
       "      <td>27.506866</td>\n",
       "    </tr>\n",
       "    <tr>\n",
       "      <th>5</th>\n",
       "      <td>Married30000</td>\n",
       "      <td>9262.512670</td>\n",
       "      <td>27.377793</td>\n",
       "    </tr>\n",
       "  </tbody>\n",
       "</table>\n",
       "</div>"
      ],
      "text/plain": [
       "           Sample         mean         std\n",
       "0    Unmarried300  9256.979897  291.345191\n",
       "1      Married300  9256.053835  290.995162\n",
       "2   Unmarried3000  9263.638175   93.469701\n",
       "3     Married3000  9262.873043   90.720472\n",
       "4  Unmarried30000  9267.280859   27.506866\n",
       "5    Married30000  9262.512670   27.377793"
      ]
     },
     "execution_count": 46,
     "metadata": {},
     "output_type": "execute_result"
    }
   ],
   "source": [
    "mu300u = np.array(df_unmarried_samp300).mean()\n",
    "sigma300u = np.array(df_unmarried_samp300).std()\n",
    "mu300m = np.array(df_married_samp300).mean()\n",
    "sigma300m = np.array(df_married_samp300).std()\n",
    "mu3000u = np.array(df_unmarried_samp3000).mean()\n",
    "sigma3000u = np.array(df_unmarried_samp3000).std()\n",
    "mu3000m = np.array(df_married_samp3000).mean()\n",
    "sigma3000m = np.array(df_married_samp3000).std()\n",
    "mu30000u = np.array(df_unmarried_samp30000).mean()\n",
    "sigma30000u = np.array(df_unmarried_samp30000).std()\n",
    "mu30000m = np.array(df_married_samp30000).mean()\n",
    "sigma30000m = np.array(df_married_samp30000).std()\n",
    "\n",
    "\n",
    "MunM_mean_std = [[ \"Unmarried300\",mu300u, sigma300u],[\"Married300\",mu300m, sigma300m],[\"Unmarried3000\",mu3000u, sigma3000u],[\"Married3000\",mu3000m, sigma3000m],[\"Unmarried30000\",mu30000u, sigma30000u],[\"Married30000\",mu30000m, sigma30000m]]\n",
    "MunM_mean_std_data = pd.DataFrame(MunM_mean_std, columns=[\"Sample\",\"mean\",\"std\"])\n",
    "MunM_mean_std_data"
   ]
  },
  {
   "cell_type": "raw",
   "id": "70ad3ee4",
   "metadata": {},
   "source": [
    "here we can see as the sample size increases mean value more tends to population mean which is 9265.9 for unmarried and 9261.2 for married. and standard deviation of sample gives the mixed response. And for lower sample mean Purchase of Unmarried was high then the Married, but as the sample size increase it came to closer."
   ]
  },
  {
   "cell_type": "code",
   "execution_count": 50,
   "id": "ed819588",
   "metadata": {},
   "outputs": [],
   "source": [
    "from scipy.stats import norm\n",
    "z_low = norm.ppf(0.025)\n",
    "z_high = norm.ppf(.975)"
   ]
  },
  {
   "cell_type": "code",
   "execution_count": 51,
   "id": "313a48b3",
   "metadata": {},
   "outputs": [
    {
     "data": {
      "text/html": [
       "<div>\n",
       "<style scoped>\n",
       "    .dataframe tbody tr th:only-of-type {\n",
       "        vertical-align: middle;\n",
       "    }\n",
       "\n",
       "    .dataframe tbody tr th {\n",
       "        vertical-align: top;\n",
       "    }\n",
       "\n",
       "    .dataframe thead th {\n",
       "        text-align: right;\n",
       "    }\n",
       "</style>\n",
       "<table border=\"1\" class=\"dataframe\">\n",
       "  <thead>\n",
       "    <tr style=\"text-align: right;\">\n",
       "      <th></th>\n",
       "      <th>From</th>\n",
       "      <th>To</th>\n",
       "      <th>diff</th>\n",
       "    </tr>\n",
       "  </thead>\n",
       "  <tbody>\n",
       "    <tr>\n",
       "      <th>UnM300</th>\n",
       "      <td>9224.011691</td>\n",
       "      <td>9289.948103</td>\n",
       "      <td>65.936412</td>\n",
       "    </tr>\n",
       "    <tr>\n",
       "      <th>M300</th>\n",
       "      <td>9223.125238</td>\n",
       "      <td>9288.982432</td>\n",
       "      <td>65.857195</td>\n",
       "    </tr>\n",
       "    <tr>\n",
       "      <th>UnM3000</th>\n",
       "      <td>9260.293466</td>\n",
       "      <td>9266.982884</td>\n",
       "      <td>6.689418</td>\n",
       "    </tr>\n",
       "    <tr>\n",
       "      <th>M3000</th>\n",
       "      <td>9259.626712</td>\n",
       "      <td>9266.119374</td>\n",
       "      <td>6.492661</td>\n",
       "    </tr>\n",
       "    <tr>\n",
       "      <th>UnM30000</th>\n",
       "      <td>9266.969595</td>\n",
       "      <td>9267.592123</td>\n",
       "      <td>0.622528</td>\n",
       "    </tr>\n",
       "    <tr>\n",
       "      <th>M30000</th>\n",
       "      <td>9262.202867</td>\n",
       "      <td>9262.822473</td>\n",
       "      <td>0.619606</td>\n",
       "    </tr>\n",
       "  </tbody>\n",
       "</table>\n",
       "</div>"
      ],
      "text/plain": [
       "                 From           To       diff\n",
       "UnM300    9224.011691  9289.948103  65.936412\n",
       "M300      9223.125238  9288.982432  65.857195\n",
       "UnM3000   9260.293466  9266.982884   6.689418\n",
       "M3000     9259.626712  9266.119374   6.492661\n",
       "UnM30000  9266.969595  9267.592123   0.622528\n",
       "M30000    9262.202867  9262.822473   0.619606"
      ]
     },
     "execution_count": 51,
     "metadata": {},
     "output_type": "execute_result"
    }
   ],
   "source": [
    "UnM300_interval = [(mu300u + (z_low*sigma300u/np.sqrt(300))),(mu300u + (z_high*sigma300u/np.sqrt(300)))]\n",
    "M300_interval = [(mu300m + (z_low*sigma300m/np.sqrt(300))),(mu300m + (z_high*sigma300m/np.sqrt(300)))]\n",
    "UnM3000_interval = [(mu3000u + (z_low*sigma3000u/np.sqrt(3000))),(mu3000u + (z_high*sigma3000u/np.sqrt(3000)))]\n",
    "M3000_interval = [(mu3000m + (z_low*sigma3000m/np.sqrt(3000))),(mu3000m + (z_high*sigma3000m/np.sqrt(3000)))]\n",
    "UnM30000_interval = [(mu30000u + (z_low*sigma30000u/np.sqrt(30000))),(mu30000u + (z_high*sigma30000u/np.sqrt(30000)))]\n",
    "M30000_interval = [(mu30000m + (z_low*sigma30000m/np.sqrt(30000))),(mu30000m + (z_high*sigma30000m/np.sqrt(30000)))]\n",
    "MunM_CI = pd.DataFrame({ \"UnM300\":UnM300_interval,\"M300\":M300_interval,\"UnM3000\":UnM3000_interval,\"M3000\":M3000_interval,\"UnM30000\":UnM30000_interval,\"M30000\":M30000_interval}).T\n",
    "MunM_CI.rename(columns={0:\"From\" , 1:\"To\"},inplace=True)\n",
    "MunM_CI['diff']= MunM_CI[\"To\"] - MunM_CI[\"From\"]\n",
    "MunM_CI"
   ]
  },
  {
   "cell_type": "raw",
   "id": "4a9b92e6",
   "metadata": {},
   "source": [
    "Initially the difference of 95% Confidence Interval of Married and Unmarried is very small, they are almost the same"
   ]
  },
  {
   "cell_type": "code",
   "execution_count": 52,
   "id": "e4c00054",
   "metadata": {},
   "outputs": [
    {
     "data": {
      "text/plain": [
       "<AxesSubplot:ylabel='Count'>"
      ]
     },
     "execution_count": 52,
     "metadata": {},
     "output_type": "execute_result"
    },
    {
     "data": {
      "image/png": "[encoded data removed]",
      "text/plain": [
       "<Figure size 640x480 with 3 Axes>"
      ]
     },
     "metadata": {},
     "output_type": "display_data"
    }
   ],
   "source": [
    "plt.subplot(3,3,1)\n",
    "sns.histplot(df_married_samp300,kde=True,color='red')\n",
    "sns.histplot(df_unmarried_samp300,kde=True,color='green')\n",
    "plt.subplot(3,3,5)\n",
    "sns.histplot(df_married_samp3000,kde=True,color='red')\n",
    "sns.histplot(df_unmarried_samp3000,kde=True,color='green')\n",
    "plt.subplot(3,3,9)\n",
    "sns.histplot(df_married_samp30000,kde=True,color='red')\n",
    "sns.histplot(df_unmarried_samp30000,kde=True,color='green')"
   ]
  },
  {
   "cell_type": "raw",
   "id": "83121602",
   "metadata": {},
   "source": [
    "Here we can see that Married and Unmarried people has the same mean Purchase as both plot overlap."
   ]
  },
  {
   "cell_type": "code",
   "execution_count": 53,
   "id": "77f48076",
   "metadata": {},
   "outputs": [
    {
     "data": {
      "text/html": [
       "<div>\n",
       "<style scoped>\n",
       "    .dataframe tbody tr th:only-of-type {\n",
       "        vertical-align: middle;\n",
       "    }\n",
       "\n",
       "    .dataframe tbody tr th {\n",
       "        vertical-align: top;\n",
       "    }\n",
       "\n",
       "    .dataframe thead th {\n",
       "        text-align: right;\n",
       "    }\n",
       "</style>\n",
       "<table border=\"1\" class=\"dataframe\">\n",
       "  <thead>\n",
       "    <tr style=\"text-align: right;\">\n",
       "      <th></th>\n",
       "      <th>User_ID</th>\n",
       "      <th>Product_ID</th>\n",
       "      <th>Gender</th>\n",
       "      <th>Age</th>\n",
       "      <th>Occupation</th>\n",
       "      <th>City_Category</th>\n",
       "      <th>Stay_In_Current_City_Years</th>\n",
       "      <th>Marital_Status</th>\n",
       "      <th>Product_Category</th>\n",
       "      <th>Purchase</th>\n",
       "    </tr>\n",
       "  </thead>\n",
       "  <tbody>\n",
       "    <tr>\n",
       "      <th>0</th>\n",
       "      <td>1000001</td>\n",
       "      <td>P00069042</td>\n",
       "      <td>F</td>\n",
       "      <td>0-17</td>\n",
       "      <td>10</td>\n",
       "      <td>A</td>\n",
       "      <td>2</td>\n",
       "      <td>0</td>\n",
       "      <td>3</td>\n",
       "      <td>8370</td>\n",
       "    </tr>\n",
       "    <tr>\n",
       "      <th>1</th>\n",
       "      <td>1000001</td>\n",
       "      <td>P00248942</td>\n",
       "      <td>F</td>\n",
       "      <td>0-17</td>\n",
       "      <td>10</td>\n",
       "      <td>A</td>\n",
       "      <td>2</td>\n",
       "      <td>0</td>\n",
       "      <td>1</td>\n",
       "      <td>15200</td>\n",
       "    </tr>\n",
       "    <tr>\n",
       "      <th>2</th>\n",
       "      <td>1000001</td>\n",
       "      <td>P00087842</td>\n",
       "      <td>F</td>\n",
       "      <td>0-17</td>\n",
       "      <td>10</td>\n",
       "      <td>A</td>\n",
       "      <td>2</td>\n",
       "      <td>0</td>\n",
       "      <td>12</td>\n",
       "      <td>1422</td>\n",
       "    </tr>\n",
       "    <tr>\n",
       "      <th>3</th>\n",
       "      <td>1000001</td>\n",
       "      <td>P00085442</td>\n",
       "      <td>F</td>\n",
       "      <td>0-17</td>\n",
       "      <td>10</td>\n",
       "      <td>A</td>\n",
       "      <td>2</td>\n",
       "      <td>0</td>\n",
       "      <td>12</td>\n",
       "      <td>1057</td>\n",
       "    </tr>\n",
       "    <tr>\n",
       "      <th>4</th>\n",
       "      <td>1000002</td>\n",
       "      <td>P00285442</td>\n",
       "      <td>M</td>\n",
       "      <td>55+</td>\n",
       "      <td>16</td>\n",
       "      <td>C</td>\n",
       "      <td>4+</td>\n",
       "      <td>0</td>\n",
       "      <td>8</td>\n",
       "      <td>7969</td>\n",
       "    </tr>\n",
       "  </tbody>\n",
       "</table>\n",
       "</div>"
      ],
      "text/plain": [
       "   User_ID Product_ID Gender   Age  Occupation City_Category  \\\n",
       "0  1000001  P00069042      F  0-17          10             A   \n",
       "1  1000001  P00248942      F  0-17          10             A   \n",
       "2  1000001  P00087842      F  0-17          10             A   \n",
       "3  1000001  P00085442      F  0-17          10             A   \n",
       "4  1000002  P00285442      M   55+          16             C   \n",
       "\n",
       "  Stay_In_Current_City_Years  Marital_Status  Product_Category  Purchase  \n",
       "0                          2               0                 3      8370  \n",
       "1                          2               0                 1     15200  \n",
       "2                          2               0                12      1422  \n",
       "3                          2               0                12      1057  \n",
       "4                         4+               0                 8      7969  "
      ]
     },
     "execution_count": 53,
     "metadata": {},
     "output_type": "execute_result"
    }
   ],
   "source": [
    "df.head()"
   ]
  },
  {
   "cell_type": "code",
   "execution_count": 54,
   "id": "2f7859b5",
   "metadata": {},
   "outputs": [
    {
     "data": {
      "text/plain": [
       "26-35    219587\n",
       "36-45    110013\n",
       "18-25     99660\n",
       "46-50     45701\n",
       "51-55     38501\n",
       "55+       21504\n",
       "0-17      15102\n",
       "Name: Age, dtype: int64"
      ]
     },
     "execution_count": 54,
     "metadata": {},
     "output_type": "execute_result"
    }
   ],
   "source": [
    "df['Age'].value_counts()"
   ]
  },
  {
   "cell_type": "code",
   "execution_count": 55,
   "id": "628aec9d",
   "metadata": {},
   "outputs": [
    {
     "data": {
      "text/plain": [
       "Age\n",
       "0-17     8933.464640\n",
       "18-25    9169.663606\n",
       "26-35    9252.690633\n",
       "36-45    9331.350695\n",
       "46-50    9208.625697\n",
       "51-55    9534.808031\n",
       "55+      9336.280459\n",
       "Name: Purchase, dtype: float64"
      ]
     },
     "execution_count": 55,
     "metadata": {},
     "output_type": "execute_result"
    }
   ],
   "source": [
    "df.groupby('Age')[\"Purchase\"].mean()"
   ]
  },
  {
   "cell_type": "code",
   "execution_count": 56,
   "id": "c22b96c3",
   "metadata": {},
   "outputs": [],
   "source": [
    "df_0_17 = df[df['Age']=='0-17']\n",
    "df_18_25 = df[df['Age']=='18-25']\n",
    "df_26_35 = df[df['Age']=='26-35']\n",
    "df_36_45 = df[df['Age']=='36-45']\n",
    "df_46_50 = df[df['Age']=='46-50']\n",
    "df_51_55 = df[df['Age']=='51-55']\n",
    "df_55 = df[df['Age']=='55+']"
   ]
  },
  {
   "cell_type": "code",
   "execution_count": 57,
   "id": "8ebb4953",
   "metadata": {},
   "outputs": [],
   "source": [
    "df_0_17_samp300 = [np.mean(df_0_17['Purchase'].sample(300)) for i in range(2000)]\n",
    "df_18_25_samp300 = [np.mean(df_18_25['Purchase'].sample(300)) for i in range(2000)]\n",
    "df_26_35_samp300 = [np.mean(df_26_35['Purchase'].sample(300)) for i in range(2000)]\n",
    "df_36_45_samp300 = [np.mean(df_36_45['Purchase'].sample(300)) for i in range(2000)]\n",
    "df_46_50_samp300 = [np.mean(df_46_50['Purchase'].sample(300)) for i in range(2000)]\n",
    "df_51_55_samp300 = [np.mean(df_51_55['Purchase'].sample(300)) for i in range(2000)]\n",
    "df_55_samp300 = [np.mean(df_55['Purchase'].sample(300)) for i in range(2000)]"
   ]
  },
  {
   "cell_type": "code",
   "execution_count": 58,
   "id": "5dc4c417",
   "metadata": {},
   "outputs": [
    {
     "data": {
      "text/plain": [
       "Text(0.5, 1.0, 'Age 55+')"
      ]
     },
     "execution_count": 58,
     "metadata": {},
     "output_type": "execute_result"
    },
    {
     "data": {
      "image/png": "[encoded data removed]",
      "text/plain": [
       "<Figure size 640x480 with 7 Axes>"
      ]
     },
     "metadata": {},
     "output_type": "display_data"
    }
   ],
   "source": [
    "plt.subplot(3,4,1)\n",
    "sns.histplot(df_0_17_samp300,kde=True).set_title('Age 0-17')\n",
    "plt.subplot(3,4,2)\n",
    "sns.histplot(df_18_25_samp300,kde=True).set_title('Age 18-25')\n",
    "plt.subplot(3,4,3)\n",
    "sns.histplot(df_26_35_samp300,kde=True).set_title('Age 26-35')\n",
    "plt.subplot(3,4,4)\n",
    "sns.histplot(df_36_45_samp300,kde=True).set_title('Age 36-45')\n",
    "plt.subplot(3,4,9)\n",
    "sns.histplot(df_46_50_samp300,kde=True).set_title('Age 46-50')\n",
    "plt.subplot(3,4,10)\n",
    "sns.histplot(df_51_55_samp300,kde=True).set_title('Age 51-55')\n",
    "plt.subplot(3,4,11)\n",
    "sns.histplot(df_55_samp300,kde=True).set_title('Age 55+')\n",
    "\n"
   ]
  },
  {
   "cell_type": "code",
   "execution_count": 59,
   "id": "851006d2",
   "metadata": {},
   "outputs": [
    {
     "data": {
      "text/html": [
       "<div>\n",
       "<style scoped>\n",
       "    .dataframe tbody tr th:only-of-type {\n",
       "        vertical-align: middle;\n",
       "    }\n",
       "\n",
       "    .dataframe tbody tr th {\n",
       "        vertical-align: top;\n",
       "    }\n",
       "\n",
       "    .dataframe thead th {\n",
       "        text-align: right;\n",
       "    }\n",
       "</style>\n",
       "<table border=\"1\" class=\"dataframe\">\n",
       "  <thead>\n",
       "    <tr style=\"text-align: right;\">\n",
       "      <th></th>\n",
       "      <th>Age Group</th>\n",
       "      <th>Mean</th>\n",
       "      <th>STD</th>\n",
       "    </tr>\n",
       "  </thead>\n",
       "  <tbody>\n",
       "    <tr>\n",
       "      <th>0</th>\n",
       "      <td>0_17</td>\n",
       "      <td>8928.352941666666</td>\n",
       "      <td>294.7753643577822</td>\n",
       "    </tr>\n",
       "    <tr>\n",
       "      <th>1</th>\n",
       "      <td>18_25</td>\n",
       "      <td>9180.242365</td>\n",
       "      <td>297.31369163625646</td>\n",
       "    </tr>\n",
       "    <tr>\n",
       "      <th>2</th>\n",
       "      <td>26_35</td>\n",
       "      <td>9252.053149999998</td>\n",
       "      <td>295.82215194518056</td>\n",
       "    </tr>\n",
       "    <tr>\n",
       "      <th>3</th>\n",
       "      <td>36_45</td>\n",
       "      <td>9329.071096666668</td>\n",
       "      <td>290.42184525584236</td>\n",
       "    </tr>\n",
       "    <tr>\n",
       "      <th>4</th>\n",
       "      <td>46_50</td>\n",
       "      <td>9212.715778333335</td>\n",
       "      <td>290.7260550664582</td>\n",
       "    </tr>\n",
       "    <tr>\n",
       "      <th>5</th>\n",
       "      <td>51_55</td>\n",
       "      <td>9531.88965</td>\n",
       "      <td>296.71373531001547</td>\n",
       "    </tr>\n",
       "    <tr>\n",
       "      <th>6</th>\n",
       "      <td>55+</td>\n",
       "      <td>9330.360349999999</td>\n",
       "      <td>281.0029980437531</td>\n",
       "    </tr>\n",
       "  </tbody>\n",
       "</table>\n",
       "</div>"
      ],
      "text/plain": [
       "  Age Group               Mean                 STD\n",
       "0      0_17  8928.352941666666   294.7753643577822\n",
       "1     18_25        9180.242365  297.31369163625646\n",
       "2     26_35  9252.053149999998  295.82215194518056\n",
       "3     36_45  9329.071096666668  290.42184525584236\n",
       "4     46_50  9212.715778333335   290.7260550664582\n",
       "5     51_55         9531.88965  296.71373531001547\n",
       "6       55+  9330.360349999999   281.0029980437531"
      ]
     },
     "execution_count": 59,
     "metadata": {},
     "output_type": "execute_result"
    }
   ],
   "source": [
    "mu300_0_17   = np.mean(df_0_17_samp300)\n",
    "mu300_18_25  = np.mean(df_18_25_samp300)\n",
    "mu300_26_35  = np.mean(df_26_35_samp300)\n",
    "mu300_36_45  = np.mean(df_36_45_samp300)\n",
    "mu300_46_50  = np.mean(df_46_50_samp300)\n",
    "mu300_51_55  = np.mean(df_51_55_samp300)\n",
    "mu300_55     = np.mean(df_55_samp300)\n",
    "sigma300_0_17  =  np.std(df_0_17_samp300)\n",
    "sigma300_18_25 = np.std(df_18_25_samp300)\n",
    "sigma300_26_35 = np.std(df_26_35_samp300)\n",
    "sigma300_36_45 = np.std(df_36_45_samp300)\n",
    "sigma300_46_50 = np.std(df_46_50_samp300)\n",
    "sigma300_51_55 = np.std(df_51_55_samp300)\n",
    "sigma300_55    = np.std(df_55_samp300)\n",
    "age_mean_std300 =np.transpose([[\"0_17\",\"18_25\",\"26_35\",\"36_45\",\"46_50\",\"51_55\",\"55+\"],[ mu300_0_17, mu300_18_25, mu300_26_35, mu300_36_45, mu300_46_50, mu300_51_55,mu300_55],[sigma300_0_17, sigma300_18_25, sigma300_26_35, sigma300_36_45, sigma300_46_50, sigma300_51_55, sigma300_55]])\n",
    "ams_data300= pd.DataFrame(age_mean_std300,columns=[\"Age Group\",\"Mean\",\"STD\"])\n",
    "ams_data300"
   ]
  },
  {
   "cell_type": "raw",
   "id": "bb01c35b",
   "metadata": {},
   "source": [
    "mean value of purchase amount of 51-55 years is the largest in the sample size of 300"
   ]
  },
  {
   "cell_type": "code",
   "execution_count": 60,
   "id": "3088bc9e",
   "metadata": {},
   "outputs": [
    {
     "data": {
      "text/plain": [
       "[['0-17', 8894.99658196023, 8961.709301373103],\n",
       " ['18-25', 9146.598771799889, 9213.885958200111],\n",
       " ['26-35', 9218.57833730351, 9285.527962696486],\n",
       " ['36-45', 9296.207374971109, 9361.934818362228],\n",
       " ['46-50', 9179.81763268959, 9245.61392397708],\n",
       " ['51-55', 9498.313947001872, 9565.465352998126],\n",
       " ['55+', 9298.562451618105, 9362.158248381893]]"
      ]
     },
     "execution_count": 60,
     "metadata": {},
     "output_type": "execute_result"
    }
   ],
   "source": [
    "[[ \"0-17\",(mu300_0_17 +   (z_low*sigma300_0_17/np.sqrt(300))),(mu300_0_17 +   (z_high*sigma300_0_17/np.sqrt(300)))],\n",
    "[ \"18-25\",(mu300_18_25 + (z_low*sigma300_18_25/np.sqrt(300))),(mu300_18_25 + (z_high*sigma300_18_25/np.sqrt(300)))],\n",
    "[ \"26-35\",(mu300_26_35 + (z_low*sigma300_26_35/np.sqrt(300))),(mu300_26_35 + (z_high*sigma300_26_35/np.sqrt(300)))],\n",
    "[ \"36-45\",(mu300_36_45 + (z_low*sigma300_36_45/np.sqrt(300))),(mu300_36_45 + (z_high*sigma300_36_45/np.sqrt(300)))],\n",
    "[ \"46-50\",(mu300_46_50 + (z_low*sigma300_46_50/np.sqrt(300))),(mu300_46_50 + (z_high*sigma300_46_50/np.sqrt(300)))],\n",
    "[ \"51-55\",(mu300_51_55 + (z_low*sigma300_51_55/np.sqrt(300))),(mu300_51_55 + (z_high*sigma300_51_55/np.sqrt(300)))],\n",
    "[ \"55+\",  (mu300_55 + (z_low*sigma300_55/np.sqrt(300))),(mu300_55 + (z_high*sigma300_55/np.sqrt(300)))]]"
   ]
  },
  {
   "cell_type": "code",
   "execution_count": 61,
   "id": "904f7d74",
   "metadata": {},
   "outputs": [],
   "source": [
    "df_0_17_samp3000 = [np.mean(df_0_17['Purchase'].sample(3000))   for i in range(2000)]\n",
    "df_18_25_samp3000 = [np.mean(df_18_25['Purchase'].sample(3000)) for i in range(2000)]\n",
    "df_26_35_samp3000 = [np.mean(df_26_35['Purchase'].sample(3000)) for i in range(2000)]\n",
    "df_36_45_samp3000 = [np.mean(df_36_45['Purchase'].sample(3000)) for i in range(2000)]\n",
    "df_46_50_samp3000 = [np.mean(df_46_50['Purchase'].sample(3000)) for i in range(2000)]\n",
    "df_51_55_samp3000 = [np.mean(df_51_55['Purchase'].sample(3000)) for i in range(2000)]\n",
    "df_55_samp3000 = [np.mean(df_55['Purchase'].sample(3000)) for i in range(2000)]"
   ]
  },
  {
   "cell_type": "code",
   "execution_count": 62,
   "id": "efd37b74",
   "metadata": {},
   "outputs": [
    {
     "data": {
      "text/plain": [
       "Text(0.5, 1.0, 'Age 55+')"
      ]
     },
     "execution_count": 62,
     "metadata": {},
     "output_type": "execute_result"
    },
    {
     "data": {
      "image/png": "[encoded data removed]",
      "text/plain": [
       "<Figure size 640x480 with 7 Axes>"
      ]
     },
     "metadata": {},
     "output_type": "display_data"
    }
   ],
   "source": [
    "plt.subplot(3,4,1)\n",
    "sns.histplot(df_0_17_samp3000,kde=True).set_title('Age 0-17')\n",
    "plt.subplot(3,4,2)\n",
    "sns.histplot(df_18_25_samp3000,kde=True).set_title('Age 18-25')\n",
    "plt.subplot(3,4,3)\n",
    "sns.histplot(df_26_35_samp3000,kde=True).set_title('Age 26-35')\n",
    "plt.subplot(3,4,4)\n",
    "sns.histplot(df_36_45_samp3000,kde=True).set_title('Age 36-45')\n",
    "plt.subplot(3,4,9)\n",
    "sns.histplot(df_46_50_samp3000,kde=True).set_title('Age 46-50')\n",
    "plt.subplot(3,4,10)\n",
    "sns.histplot(df_51_55_samp3000,kde=True).set_title('Age 51-55')\n",
    "plt.subplot(3,4,11)\n",
    "sns.histplot(df_55_samp3000,kde=True).set_title('Age 55+')"
   ]
  },
  {
   "cell_type": "code",
   "execution_count": 63,
   "id": "8a7b5300",
   "metadata": {},
   "outputs": [
    {
     "data": {
      "text/html": [
       "<div>\n",
       "<style scoped>\n",
       "    .dataframe tbody tr th:only-of-type {\n",
       "        vertical-align: middle;\n",
       "    }\n",
       "\n",
       "    .dataframe tbody tr th {\n",
       "        vertical-align: top;\n",
       "    }\n",
       "\n",
       "    .dataframe thead th {\n",
       "        text-align: right;\n",
       "    }\n",
       "</style>\n",
       "<table border=\"1\" class=\"dataframe\">\n",
       "  <thead>\n",
       "    <tr style=\"text-align: right;\">\n",
       "      <th></th>\n",
       "      <th>Age Group</th>\n",
       "      <th>Mean</th>\n",
       "      <th>STD</th>\n",
       "    </tr>\n",
       "  </thead>\n",
       "  <tbody>\n",
       "    <tr>\n",
       "      <th>0</th>\n",
       "      <td>0_17</td>\n",
       "      <td>8933.771170333333</td>\n",
       "      <td>82.46063612048808</td>\n",
       "    </tr>\n",
       "    <tr>\n",
       "      <th>1</th>\n",
       "      <td>18_25</td>\n",
       "      <td>9170.294897833332</td>\n",
       "      <td>89.66696671201878</td>\n",
       "    </tr>\n",
       "    <tr>\n",
       "      <th>2</th>\n",
       "      <td>26_35</td>\n",
       "      <td>9253.055793499998</td>\n",
       "      <td>89.38716654894887</td>\n",
       "    </tr>\n",
       "    <tr>\n",
       "      <th>3</th>\n",
       "      <td>36_45</td>\n",
       "      <td>9332.180388166667</td>\n",
       "      <td>89.3788899568159</td>\n",
       "    </tr>\n",
       "    <tr>\n",
       "      <th>4</th>\n",
       "      <td>46_50</td>\n",
       "      <td>9208.460950666666</td>\n",
       "      <td>88.051701622013</td>\n",
       "    </tr>\n",
       "    <tr>\n",
       "      <th>5</th>\n",
       "      <td>51_55</td>\n",
       "      <td>9535.312403000002</td>\n",
       "      <td>87.73657302536655</td>\n",
       "    </tr>\n",
       "    <tr>\n",
       "      <th>6</th>\n",
       "      <td>55+</td>\n",
       "      <td>9337.360695833333</td>\n",
       "      <td>83.14721321928077</td>\n",
       "    </tr>\n",
       "  </tbody>\n",
       "</table>\n",
       "</div>"
      ],
      "text/plain": [
       "  Age Group               Mean                STD\n",
       "0      0_17  8933.771170333333  82.46063612048808\n",
       "1     18_25  9170.294897833332  89.66696671201878\n",
       "2     26_35  9253.055793499998  89.38716654894887\n",
       "3     36_45  9332.180388166667   89.3788899568159\n",
       "4     46_50  9208.460950666666    88.051701622013\n",
       "5     51_55  9535.312403000002  87.73657302536655\n",
       "6       55+  9337.360695833333  83.14721321928077"
      ]
     },
     "execution_count": 63,
     "metadata": {},
     "output_type": "execute_result"
    }
   ],
   "source": [
    "mu3000_0_17   = np.mean(df_0_17_samp3000)\n",
    "mu3000_18_25  = np.mean(df_18_25_samp3000)\n",
    "mu3000_26_35  = np.mean(df_26_35_samp3000)\n",
    "mu3000_36_45  = np.mean(df_36_45_samp3000)\n",
    "mu3000_46_50  = np.mean(df_46_50_samp3000)\n",
    "mu3000_51_55  = np.mean(df_51_55_samp3000)\n",
    "mu3000_55     = np.mean(df_55_samp3000)\n",
    "sigma3000_0_17  =  np.std(df_0_17_samp3000)\n",
    "sigma3000_18_25 = np.std(df_18_25_samp3000)\n",
    "sigma3000_26_35 = np.std(df_26_35_samp3000)\n",
    "sigma3000_36_45 = np.std(df_36_45_samp3000)\n",
    "sigma3000_46_50 = np.std(df_46_50_samp3000)\n",
    "sigma3000_51_55 = np.std(df_51_55_samp3000)\n",
    "sigma3000_55    = np.std(df_55_samp3000)\n",
    "age_mean_std3000 =np.transpose([[\"0_17\",\"18_25\",\"26_35\",\"36_45\",\"46_50\",\"51_55\",\"55+\"],[ mu3000_0_17, mu3000_18_25, mu3000_26_35, mu3000_36_45, mu3000_46_50, mu3000_51_55,mu3000_55],[sigma3000_0_17, sigma3000_18_25, sigma3000_26_35, sigma3000_36_45, sigma3000_46_50, sigma3000_51_55, sigma3000_55]])\n",
    "ams_data3000= pd.DataFrame(age_mean_std3000,columns=[\"Age Group\",\"Mean\",\"STD\"])\n",
    "ams_data3000"
   ]
  },
  {
   "cell_type": "raw",
   "id": "38fc0169",
   "metadata": {},
   "source": [
    "mean value of purchase amount of 51-55 years is the largest in the sample size of 3000 also"
   ]
  },
  {
   "cell_type": "code",
   "execution_count": 64,
   "id": "8502f3f7",
   "metadata": {},
   "outputs": [
    {
     "data": {
      "text/plain": [
       "[['0-17', 8930.820408588654, 8936.721932078013],\n",
       " ['18-25', 9167.086265598811, 9173.503530067852],\n",
       " ['26-35', 9249.85717360174, 9256.254413398256],\n",
       " ['36-45', 9328.982064437014, 9335.378711896321],\n",
       " ['46-50', 9205.310118888938, 9211.611782444394],\n",
       " ['51-55', 9532.172847747066, 9538.451958252937],\n",
       " ['55+', 9334.385365694166, 9340.3360259725]]"
      ]
     },
     "execution_count": 64,
     "metadata": {},
     "output_type": "execute_result"
    }
   ],
   "source": [
    "[[ \"0-17\",(mu3000_0_17 +   (z_low*sigma3000_0_17/np.sqrt(3000))),(mu3000_0_17 +   (z_high*sigma3000_0_17/np.sqrt(3000)))],\n",
    "[ \"18-25\",(mu3000_18_25 + (z_low*sigma3000_18_25/np.sqrt(3000))),(mu3000_18_25 + (z_high*sigma3000_18_25/np.sqrt(3000)))],\n",
    "[ \"26-35\",(mu3000_26_35 + (z_low*sigma3000_26_35/np.sqrt(3000))),(mu3000_26_35 + (z_high*sigma3000_26_35/np.sqrt(3000)))],\n",
    "[ \"36-45\",(mu3000_36_45 + (z_low*sigma3000_36_45/np.sqrt(3000))),(mu3000_36_45 + (z_high*sigma3000_36_45/np.sqrt(3000)))],\n",
    "[ \"46-50\",(mu3000_46_50 + (z_low*sigma3000_46_50/np.sqrt(3000))),(mu3000_46_50 + (z_high*sigma3000_46_50/np.sqrt(3000)))],\n",
    "[ \"51-55\",(mu3000_51_55 + (z_low*sigma3000_51_55/np.sqrt(3000))),(mu3000_51_55 + (z_high*sigma3000_51_55/np.sqrt(3000)))],\n",
    "[ \"55+\",  (mu3000_55 + (z_low*sigma3000_55/np.sqrt(3000))),(mu3000_55 + (z_high*sigma3000_55/np.sqrt(3000)))]]"
   ]
  },
  {
   "cell_type": "code",
   "execution_count": 69,
   "id": "fc6fa5ca",
   "metadata": {},
   "outputs": [],
   "source": [
    "df_0_17_samp15000 =   [np.mean(df_0_17['Purchase'].sample(15000)) for i in range(2000)]\n",
    "df_18_25_samp15000 = [np.mean(df_18_25['Purchase'].sample(15000)) for i in range(2000)]\n",
    "df_26_35_samp15000 = [np.mean(df_26_35['Purchase'].sample(15000)) for i in range(2000)]\n",
    "df_36_45_samp15000 = [np.mean(df_36_45['Purchase'].sample(15000)) for i in range(2000)]\n",
    "df_46_50_samp15000 = [np.mean(df_46_50['Purchase'].sample(15000)) for i in range(2000)]\n",
    "df_51_55_samp15000 = [np.mean(df_51_55['Purchase'].sample(15000)) for i in range(2000)]\n",
    "df_55_samp15000 = [np.mean(df_55['Purchase'].sample(15000)) for i in range(2000)]"
   ]
  },
  {
   "cell_type": "code",
   "execution_count": 70,
   "id": "53d27fac",
   "metadata": {},
   "outputs": [
    {
     "data": {
      "text/plain": [
       "Text(0.5, 1.0, 'Age 55+')"
      ]
     },
     "execution_count": 70,
     "metadata": {},
     "output_type": "execute_result"
    },
    {
     "data": {
      "image/png": "[encoded data removed]",
      "text/plain": [
       "<Figure size 640x480 with 7 Axes>"
      ]
     },
     "metadata": {},
     "output_type": "display_data"
    }
   ],
   "source": [
    "plt.subplot(3,4,1)\n",
    "sns.histplot(df_0_17_samp15000,kde=True).set_title('Age 0-17')\n",
    "plt.subplot(3,4,2)\n",
    "sns.histplot(df_18_25_samp15000,kde=True).set_title('Age 18-25')\n",
    "plt.subplot(3,4,3)\n",
    "sns.histplot(df_26_35_samp15000,kde=True).set_title('Age 26-35')\n",
    "plt.subplot(3,4,4)\n",
    "sns.histplot(df_36_45_samp15000,kde=True).set_title('Age 36-45')\n",
    "plt.subplot(3,4,9)\n",
    "sns.histplot(df_46_50_samp15000,kde=True).set_title('Age 46-50')\n",
    "plt.subplot(3,4,10)\n",
    "sns.histplot(df_51_55_samp15000,kde=True).set_title('Age 51-55')\n",
    "plt.subplot(3,4,11)\n",
    "sns.histplot(df_55_samp15000,kde=True).set_title('Age 55+')"
   ]
  },
  {
   "cell_type": "code",
   "execution_count": 71,
   "id": "07c270d3",
   "metadata": {},
   "outputs": [
    {
     "data": {
      "text/html": [
       "<div>\n",
       "<style scoped>\n",
       "    .dataframe tbody tr th:only-of-type {\n",
       "        vertical-align: middle;\n",
       "    }\n",
       "\n",
       "    .dataframe tbody tr th {\n",
       "        vertical-align: top;\n",
       "    }\n",
       "\n",
       "    .dataframe thead th {\n",
       "        text-align: right;\n",
       "    }\n",
       "</style>\n",
       "<table border=\"1\" class=\"dataframe\">\n",
       "  <thead>\n",
       "    <tr style=\"text-align: right;\">\n",
       "      <th></th>\n",
       "      <th>Age Group</th>\n",
       "      <th>Mean</th>\n",
       "      <th>STD</th>\n",
       "    </tr>\n",
       "  </thead>\n",
       "  <tbody>\n",
       "    <tr>\n",
       "      <th>0</th>\n",
       "      <td>0_17</td>\n",
       "      <td>8933.532128966666</td>\n",
       "      <td>3.4073333535773997</td>\n",
       "    </tr>\n",
       "    <tr>\n",
       "      <th>1</th>\n",
       "      <td>18_25</td>\n",
       "      <td>9168.6844371</td>\n",
       "      <td>37.898039367569716</td>\n",
       "    </tr>\n",
       "    <tr>\n",
       "      <th>2</th>\n",
       "      <td>26_35</td>\n",
       "      <td>9253.059876133333</td>\n",
       "      <td>39.23210889085445</td>\n",
       "    </tr>\n",
       "    <tr>\n",
       "      <th>3</th>\n",
       "      <td>36_45</td>\n",
       "      <td>9332.009251333333</td>\n",
       "      <td>39.223745774453285</td>\n",
       "    </tr>\n",
       "    <tr>\n",
       "      <th>4</th>\n",
       "      <td>46_50</td>\n",
       "      <td>9209.584042566667</td>\n",
       "      <td>33.009937407614956</td>\n",
       "    </tr>\n",
       "    <tr>\n",
       "      <th>5</th>\n",
       "      <td>51_55</td>\n",
       "      <td>9535.3410859</td>\n",
       "      <td>32.30644709282752</td>\n",
       "    </tr>\n",
       "    <tr>\n",
       "      <th>6</th>\n",
       "      <td>55+</td>\n",
       "      <td>9335.861799566668</td>\n",
       "      <td>21.876972666720242</td>\n",
       "    </tr>\n",
       "  </tbody>\n",
       "</table>\n",
       "</div>"
      ],
      "text/plain": [
       "  Age Group               Mean                 STD\n",
       "0      0_17  8933.532128966666  3.4073333535773997\n",
       "1     18_25       9168.6844371  37.898039367569716\n",
       "2     26_35  9253.059876133333   39.23210889085445\n",
       "3     36_45  9332.009251333333  39.223745774453285\n",
       "4     46_50  9209.584042566667  33.009937407614956\n",
       "5     51_55       9535.3410859   32.30644709282752\n",
       "6       55+  9335.861799566668  21.876972666720242"
      ]
     },
     "execution_count": 71,
     "metadata": {},
     "output_type": "execute_result"
    }
   ],
   "source": [
    "mu15000_0_17   =  np.mean(df_0_17_samp15000)\n",
    "mu15000_18_25  = np.mean(df_18_25_samp15000)\n",
    "mu15000_26_35  = np.mean(df_26_35_samp15000)\n",
    "mu15000_36_45  = np.mean(df_36_45_samp15000)\n",
    "mu15000_46_50  = np.mean(df_46_50_samp15000)\n",
    "mu15000_51_55  = np.mean(df_51_55_samp15000)\n",
    "mu15000_55     = np.mean(df_55_samp15000)\n",
    "sigma15000_0_17  =  np.std(df_0_17_samp15000)\n",
    "sigma15000_18_25 = np.std(df_18_25_samp15000)\n",
    "sigma15000_26_35 = np.std(df_26_35_samp15000)\n",
    "sigma15000_36_45 = np.std(df_36_45_samp15000)\n",
    "sigma15000_46_50 = np.std(df_46_50_samp15000)\n",
    "sigma15000_51_55 = np.std(df_51_55_samp15000)\n",
    "sigma15000_55    = np.std(df_55_samp15000)\n",
    "age_mean_std15000 =np.transpose([[\"0_17\",\"18_25\",\"26_35\",\"36_45\",\"46_50\",\"51_55\",\"55+\"],[ mu15000_0_17, mu15000_18_25, mu15000_26_35, mu15000_36_45, mu15000_46_50, mu15000_51_55,mu15000_55],[sigma15000_0_17, sigma15000_18_25, sigma15000_26_35, sigma15000_36_45, sigma15000_46_50, sigma15000_51_55, sigma15000_55]])\n",
    "ams_data15000= pd.DataFrame(age_mean_std15000,columns=[\"Age Group\",\"Mean\",\"STD\"])\n",
    "ams_data15000"
   ]
  },
  {
   "cell_type": "raw",
   "id": "077d7ec9",
   "metadata": {},
   "source": [
    "mean value of purchase amount of 51-55 years is the largest even with the sample size of 30000, so we can stat that age group from 51-55 age group orders high value products"
   ]
  },
  {
   "cell_type": "code",
   "execution_count": 72,
   "id": "62087de4",
   "metadata": {},
   "outputs": [
    {
     "data": {
      "text/plain": [
       "[['0-17', 8933.477601278391, 8933.586656654941],\n",
       " ['18-25', 9168.077953300965, 9169.290920899037],\n",
       " ['26-35', 9252.432043167793, 9253.687709098873],\n",
       " ['36-45', 9331.381552203069, 9332.636950463597],\n",
       " ['46-50', 9209.055783253547, 9210.112301879786],\n",
       " ['51-55', 9534.824084569767, 9535.858087230232],\n",
       " ['55+', 9335.511701521606, 9336.21189761173]]"
      ]
     },
     "execution_count": 72,
     "metadata": {},
     "output_type": "execute_result"
    }
   ],
   "source": [
    "[[ \"0-17\",(mu15000_0_17 +   (z_low*sigma15000_0_17/np.sqrt(15000))),(mu15000_0_17 +   (z_high*sigma15000_0_17/np.sqrt(15000)))],\n",
    "[ \"18-25\",(mu15000_18_25 + (z_low*sigma15000_18_25/np.sqrt(15000))),(mu15000_18_25 + (z_high*sigma15000_18_25/np.sqrt(15000)))],\n",
    "[ \"26-35\",(mu15000_26_35 + (z_low*sigma15000_26_35/np.sqrt(15000))),(mu15000_26_35 + (z_high*sigma15000_26_35/np.sqrt(15000)))],\n",
    "[ \"36-45\",(mu15000_36_45 + (z_low*sigma15000_36_45/np.sqrt(15000))),(mu15000_36_45 + (z_high*sigma15000_36_45/np.sqrt(15000)))],\n",
    "[ \"46-50\",(mu15000_46_50 + (z_low*sigma15000_46_50/np.sqrt(15000))),(mu15000_46_50 + (z_high*sigma15000_46_50/np.sqrt(15000)))],\n",
    "[ \"51-55\",(mu15000_51_55 + (z_low*sigma15000_51_55/np.sqrt(15000))),(mu15000_51_55 + (z_high*sigma15000_51_55/np.sqrt(15000)))],\n",
    "[ \"55+\",  (mu15000_55 +       (z_low*sigma15000_55/np.sqrt(15000))),(mu15000_55 +       (z_high*sigma15000_55/np.sqrt(15000)))]]"
   ]
  },
  {
   "cell_type": "raw",
   "id": "f1b464a9",
   "metadata": {},
   "source": [
    "Here the size of people from age group of 0-17 was around 16000 so we took 15000 as sample. and here As the sample size increased, 95% confidence level came to more accurate near the population Purchase mean."
   ]
  },
  {
   "cell_type": "raw",
   "id": "9a422ab4",
   "metadata": {},
   "source": []
  },
  {
   "cell_type": "markdown",
   "id": "db2ef746",
   "metadata": {},
   "source": [
    "# Recommendation"
   ]
  },
  {
   "cell_type": "markdown",
   "id": "89ca07bf",
   "metadata": {},
   "source": [
    "# Male and female:\n",
    "When the confidence interval for how much women spend is lower than men, it suggests women might be spending less. Here are some things Walmart could do:\n",
    "\n",
    "1. Special Offers for Women: Give women special deals or discounts to encourage them to spend more.\n",
    "2. Better Products for Women: Make sure the products Walmart sells are what women want to buy.\n",
    "3. Make Shopping Easier for Women: Improve the shopping experience for women, both online and in stores.\n",
    "4. Teach Women about Budgeting: Offer tips and advice to help women make smart spending choices.\n",
    "5. Listen to Women: Ask women what they want and how Walmart can make shopping better for them."
   ]
  },
  {
   "cell_type": "markdown",
   "id": "dc55bb8d",
   "metadata": {},
   "source": [
    "# Married and Unmarried\n",
    "When the confidence interval for spending is similar between married and unmarried people, it suggests that marital status might not significantly affect spending habits. Here are some actions Walmart could consider:\n",
    "\n",
    "1. Universal Marketing: Instead of targeting specific marital statuses, focus on universal marketing strategies that appeal to all customers.\n",
    "2. Diverse Product Range: Offer a diverse range of products that cater to the varied preferences of both married and unmarried individuals.\n",
    "3. Customer Service Excellence: Prioritize excellent customer service to ensure all shoppers feel valued and satisfied, regardless of marital status.\n",
    "4. Community Engagement: Engage with local communities to build strong relationships and foster loyalty among all customer demographics.\n",
    "5. Research Further: Conduct additional research to understand if there are specific product categories or factors that influence spending behavior differently among married and unmarried individuals.\n",
    "By recognizing that marital status might not be a significant factor in spending habits, Walmart can focus on providing an inclusive and welcoming shopping experience for all customers."
   ]
  },
  {
   "cell_type": "markdown",
   "id": "291d10e8",
   "metadata": {},
   "source": [
    "#  Based on Age\n",
    "When the confidence intervals for spending across different age groups are very close together, it suggests that people in these age groups tend to spend similar amounts at Walmart. Here are some brief actions to consider:\n",
    "\n",
    "1. Targeted Marketing by Preferences: Focus on marketing campaigns that appeal to the specific preferences and interests of each age group.\n",
    "2. Tailored Product Recommendations: Offer personalized product recommendations based on the typical preferences of each age group.\n",
    "3. In-Store Experience Enhancement: Improve the in-store experience to cater to the needs and preferences of customers across all age groups.\n",
    "4. Digital Engagement: Develop digital engagement strategies that resonate with the tech-savvy younger age groups while ensuring accessibility for older demographics.\n",
    "5. Feedback and Adaptation: Continuously gather feedback from customers across all age groups and adapt offerings and services accordingly.\n",
    "By recognizing the similarities in spending habits across different age groups, Walmart can focus on providing a consistent and appealing shopping experience for all customers, regardless of age."
   ]
  }
 ],
 "metadata": {
  "kernelspec": {
   "display_name": "Python 3 (ipykernel)",
   "language": "python",
   "name": "python3"
  },
  "language_info": {
   "codemirror_mode": {
    "name": "ipython",
    "version": 3
   },
   "file_extension": ".py",
   "mimetype": "text/x-python",
   "name": "python",
   "nbconvert_exporter": "python",
   "pygments_lexer": "ipython3",
   "version": "3.9.13"
  }
 },
 "nbformat": 4,
 "nbformat_minor": 5
}
